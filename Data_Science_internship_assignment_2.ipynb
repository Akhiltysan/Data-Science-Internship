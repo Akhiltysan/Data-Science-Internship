{
  "nbformat": 4,
  "nbformat_minor": 0,
  "metadata": {
    "colab": {
      "name": "Data Science internship assignment 2.ipynb",
      "provenance": []
    },
    "kernelspec": {
      "name": "python3",
      "display_name": "Python 3"
    },
    "language_info": {
      "name": "python"
    }
  },
  "cells": [
    {
      "cell_type": "code",
      "execution_count": null,
      "metadata": {
        "id": "KECTOjmVF3Aw"
      },
      "outputs": [],
      "source": [
        ""
      ]
    },
    {
      "cell_type": "markdown",
      "source": [
        "# New Section"
      ],
      "metadata": {
        "id": "BaWW1Rb_GocJ"
      }
    },
    {
      "cell_type": "code",
      "source": [
        "import pandas as pd"
      ],
      "metadata": {
        "id": "0BrggPJlHEeU"
      },
      "execution_count": null,
      "outputs": []
    },
    {
      "cell_type": "code",
      "source": [
        "df = pd.read_csv('m.csv')\n",
        "print(df)"
      ],
      "metadata": {
        "colab": {
          "base_uri": "https://localhost:8080/"
        },
        "id": "OpWlpEpfHIH8",
        "outputId": "51cdee56-76f4-4a8a-9082-7ac640d57034"
      },
      "execution_count": null,
      "outputs": [
        {
          "output_type": "stream",
          "name": "stdout",
          "text": [
            "     Unnamed: 0    #                   Name   Type 1  Type 2  HP  Attack  \\\n",
            "0             0    1              Bulbasaur    Grass  Poison  45      49   \n",
            "1             1    2                Ivysaur    Grass  Poison  60      62   \n",
            "2             2    3               Venusaur    Grass  Poison  80      82   \n",
            "3             3    3  VenusaurMega Venusaur    Grass  Poison  80     100   \n",
            "4             4    4             Charmander     Fire     NaN  39      52   \n",
            "..          ...  ...                    ...      ...     ...  ..     ...   \n",
            "795         795  719                Diancie     Rock   Fairy  50     100   \n",
            "796         796  719    DiancieMega Diancie     Rock   Fairy  50     160   \n",
            "797         797  720    HoopaHoopa Confined  Psychic   Ghost  80     110   \n",
            "798         798  720     HoopaHoopa Unbound  Psychic    Dark  80     160   \n",
            "799         799  721              Volcanion     Fire   Water  80     110   \n",
            "\n",
            "     Defense  Sp. Atk  Sp. Def  Speed  Generation  Legendary   Avg_speed  \\\n",
            "0         49       65       65     45           1      False   66.444444   \n",
            "1         63       80       80     60           1      False   81.333333   \n",
            "2         83      100      100     80           1      False  101.250000   \n",
            "3        123      122      120     80           1      False  123.500000   \n",
            "4         43       60       50     65           1      False   60.769231   \n",
            "..       ...      ...      ...    ...         ...        ...         ...   \n",
            "795      150      100      150     50           6       True  103.000000   \n",
            "796      110      160      110    110           6       True  161.000000   \n",
            "797       60      150      130     70           6       True  151.857143   \n",
            "798       60      170      130     80           6       True  171.625000   \n",
            "799      120      130       90     70           6       True  131.285714   \n",
            "\n",
            "     count  \n",
            "0        1  \n",
            "1        1  \n",
            "2        1  \n",
            "3        1  \n",
            "4        1  \n",
            "..     ...  \n",
            "795      1  \n",
            "796      1  \n",
            "797      1  \n",
            "798      1  \n",
            "799      1  \n",
            "\n",
            "[800 rows x 15 columns]\n"
          ]
        }
      ]
    },
    {
      "cell_type": "code",
      "source": [
        "data = df.sort_values('Name',ascending = True)"
      ],
      "metadata": {
        "id": "ktLiDN4CH49K"
      },
      "execution_count": null,
      "outputs": []
    },
    {
      "cell_type": "code",
      "source": [
        "data.to_excel('filter.xlsx')\n",
        "df1=pd.read_excel('filter.xlsx')\n",
        "print(df1)"
      ],
      "metadata": {
        "colab": {
          "base_uri": "https://localhost:8080/"
        },
        "id": "SpmGqyvGPj6O",
        "outputId": "86bea394-2ee2-47bb-af3e-6034fff2a852"
      },
      "execution_count": null,
      "outputs": [
        {
          "output_type": "stream",
          "name": "stdout",
          "text": [
            "     Unnamed: 0  Unnamed: 0.1    #                     Name   Type 1  Type 2  \\\n",
            "0           510           510  460                Abomasnow    Grass     Ice   \n",
            "1           511           511  460  AbomasnowMega Abomasnow    Grass     Ice   \n",
            "2            68            68   63                     Abra  Psychic     NaN   \n",
            "3           392           392  359                    Absol     Dark     NaN   \n",
            "4           393           393  359          AbsolMega Absol     Dark     NaN   \n",
            "..          ...           ...  ...                      ...      ...     ...   \n",
            "795         632           632  571                  Zoroark     Dark     NaN   \n",
            "796         631           631  570                    Zorua     Dark     NaN   \n",
            "797          46            46   41                    Zubat   Poison  Flying   \n",
            "798         695           695  634                 Zweilous     Dark  Dragon   \n",
            "799         794           794  718         Zygarde50% Forme   Dragon  Ground   \n",
            "\n",
            "      HP  Attack  Defense  Sp. Atk  Sp. Def  Speed  Generation  Legendary  \\\n",
            "0     90      92       75       92       85     60           4      False   \n",
            "1     90     132      105      132      105     30           4      False   \n",
            "2     25      20       15      105       55     90           1      False   \n",
            "3     65     130       60       75       60     75           3      False   \n",
            "4     65     150       60      115       60    115           3      False   \n",
            "..   ...     ...      ...      ...      ...    ...         ...        ...   \n",
            "795   60     105       60      120       60    105           5      False   \n",
            "796   40      65       40       80       40     65           5      False   \n",
            "797   40      45       35       30       40     55           1      False   \n",
            "798   72      85       70       65       70     58           5      False   \n",
            "799  108     100      121       81       95     95           6       True   \n",
            "\n",
            "      Avg_speed  count  \n",
            "0     93.416667      1  \n",
            "1    135.500000      1  \n",
            "2    105.611111      1  \n",
            "3     75.800000      1  \n",
            "4    115.521739      1  \n",
            "..          ...    ...  \n",
            "795  120.571429      1  \n",
            "796   80.615385      1  \n",
            "797   30.727273      1  \n",
            "798   66.206897      1  \n",
            "799   82.000000      1  \n",
            "\n",
            "[800 rows x 16 columns]\n"
          ]
        }
      ]
    },
    {
      "cell_type": "code",
      "source": [
        "df1.head()"
      ],
      "metadata": {
        "colab": {
          "base_uri": "https://localhost:8080/",
          "height": 305
        },
        "id": "gH-HfxwwP32m",
        "outputId": "8ccf6267-b1ee-416b-f52b-4d07aae25846"
      },
      "execution_count": null,
      "outputs": [
        {
          "output_type": "execute_result",
          "data": {
            "text/plain": [
              "   Unnamed: 0  Unnamed: 0.1    #                     Name   Type 1 Type 2  HP  \\\n",
              "0         510           510  460                Abomasnow    Grass    Ice  90   \n",
              "1         511           511  460  AbomasnowMega Abomasnow    Grass    Ice  90   \n",
              "2          68            68   63                     Abra  Psychic    NaN  25   \n",
              "3         392           392  359                    Absol     Dark    NaN  65   \n",
              "4         393           393  359          AbsolMega Absol     Dark    NaN  65   \n",
              "\n",
              "   Attack  Defense  Sp. Atk  Sp. Def  Speed  Generation  Legendary  \\\n",
              "0      92       75       92       85     60           4      False   \n",
              "1     132      105      132      105     30           4      False   \n",
              "2      20       15      105       55     90           1      False   \n",
              "3     130       60       75       60     75           3      False   \n",
              "4     150       60      115       60    115           3      False   \n",
              "\n",
              "    Avg_speed  count  \n",
              "0   93.416667      1  \n",
              "1  135.500000      1  \n",
              "2  105.611111      1  \n",
              "3   75.800000      1  \n",
              "4  115.521739      1  "
            ],
            "text/html": [
              "\n",
              "  <div id=\"df-7ec31977-57c8-4abf-9d71-bc4450e9b70b\">\n",
              "    <div class=\"colab-df-container\">\n",
              "      <div>\n",
              "<style scoped>\n",
              "    .dataframe tbody tr th:only-of-type {\n",
              "        vertical-align: middle;\n",
              "    }\n",
              "\n",
              "    .dataframe tbody tr th {\n",
              "        vertical-align: top;\n",
              "    }\n",
              "\n",
              "    .dataframe thead th {\n",
              "        text-align: right;\n",
              "    }\n",
              "</style>\n",
              "<table border=\"1\" class=\"dataframe\">\n",
              "  <thead>\n",
              "    <tr style=\"text-align: right;\">\n",
              "      <th></th>\n",
              "      <th>Unnamed: 0</th>\n",
              "      <th>Unnamed: 0.1</th>\n",
              "      <th>#</th>\n",
              "      <th>Name</th>\n",
              "      <th>Type 1</th>\n",
              "      <th>Type 2</th>\n",
              "      <th>HP</th>\n",
              "      <th>Attack</th>\n",
              "      <th>Defense</th>\n",
              "      <th>Sp. Atk</th>\n",
              "      <th>Sp. Def</th>\n",
              "      <th>Speed</th>\n",
              "      <th>Generation</th>\n",
              "      <th>Legendary</th>\n",
              "      <th>Avg_speed</th>\n",
              "      <th>count</th>\n",
              "    </tr>\n",
              "  </thead>\n",
              "  <tbody>\n",
              "    <tr>\n",
              "      <th>0</th>\n",
              "      <td>510</td>\n",
              "      <td>510</td>\n",
              "      <td>460</td>\n",
              "      <td>Abomasnow</td>\n",
              "      <td>Grass</td>\n",
              "      <td>Ice</td>\n",
              "      <td>90</td>\n",
              "      <td>92</td>\n",
              "      <td>75</td>\n",
              "      <td>92</td>\n",
              "      <td>85</td>\n",
              "      <td>60</td>\n",
              "      <td>4</td>\n",
              "      <td>False</td>\n",
              "      <td>93.416667</td>\n",
              "      <td>1</td>\n",
              "    </tr>\n",
              "    <tr>\n",
              "      <th>1</th>\n",
              "      <td>511</td>\n",
              "      <td>511</td>\n",
              "      <td>460</td>\n",
              "      <td>AbomasnowMega Abomasnow</td>\n",
              "      <td>Grass</td>\n",
              "      <td>Ice</td>\n",
              "      <td>90</td>\n",
              "      <td>132</td>\n",
              "      <td>105</td>\n",
              "      <td>132</td>\n",
              "      <td>105</td>\n",
              "      <td>30</td>\n",
              "      <td>4</td>\n",
              "      <td>False</td>\n",
              "      <td>135.500000</td>\n",
              "      <td>1</td>\n",
              "    </tr>\n",
              "    <tr>\n",
              "      <th>2</th>\n",
              "      <td>68</td>\n",
              "      <td>68</td>\n",
              "      <td>63</td>\n",
              "      <td>Abra</td>\n",
              "      <td>Psychic</td>\n",
              "      <td>NaN</td>\n",
              "      <td>25</td>\n",
              "      <td>20</td>\n",
              "      <td>15</td>\n",
              "      <td>105</td>\n",
              "      <td>55</td>\n",
              "      <td>90</td>\n",
              "      <td>1</td>\n",
              "      <td>False</td>\n",
              "      <td>105.611111</td>\n",
              "      <td>1</td>\n",
              "    </tr>\n",
              "    <tr>\n",
              "      <th>3</th>\n",
              "      <td>392</td>\n",
              "      <td>392</td>\n",
              "      <td>359</td>\n",
              "      <td>Absol</td>\n",
              "      <td>Dark</td>\n",
              "      <td>NaN</td>\n",
              "      <td>65</td>\n",
              "      <td>130</td>\n",
              "      <td>60</td>\n",
              "      <td>75</td>\n",
              "      <td>60</td>\n",
              "      <td>75</td>\n",
              "      <td>3</td>\n",
              "      <td>False</td>\n",
              "      <td>75.800000</td>\n",
              "      <td>1</td>\n",
              "    </tr>\n",
              "    <tr>\n",
              "      <th>4</th>\n",
              "      <td>393</td>\n",
              "      <td>393</td>\n",
              "      <td>359</td>\n",
              "      <td>AbsolMega Absol</td>\n",
              "      <td>Dark</td>\n",
              "      <td>NaN</td>\n",
              "      <td>65</td>\n",
              "      <td>150</td>\n",
              "      <td>60</td>\n",
              "      <td>115</td>\n",
              "      <td>60</td>\n",
              "      <td>115</td>\n",
              "      <td>3</td>\n",
              "      <td>False</td>\n",
              "      <td>115.521739</td>\n",
              "      <td>1</td>\n",
              "    </tr>\n",
              "  </tbody>\n",
              "</table>\n",
              "</div>\n",
              "      <button class=\"colab-df-convert\" onclick=\"convertToInteractive('df-7ec31977-57c8-4abf-9d71-bc4450e9b70b')\"\n",
              "              title=\"Convert this dataframe to an interactive table.\"\n",
              "              style=\"display:none;\">\n",
              "        \n",
              "  <svg xmlns=\"http://www.w3.org/2000/svg\" height=\"24px\"viewBox=\"0 0 24 24\"\n",
              "       width=\"24px\">\n",
              "    <path d=\"M0 0h24v24H0V0z\" fill=\"none\"/>\n",
              "    <path d=\"M18.56 5.44l.94 2.06.94-2.06 2.06-.94-2.06-.94-.94-2.06-.94 2.06-2.06.94zm-11 1L8.5 8.5l.94-2.06 2.06-.94-2.06-.94L8.5 2.5l-.94 2.06-2.06.94zm10 10l.94 2.06.94-2.06 2.06-.94-2.06-.94-.94-2.06-.94 2.06-2.06.94z\"/><path d=\"M17.41 7.96l-1.37-1.37c-.4-.4-.92-.59-1.43-.59-.52 0-1.04.2-1.43.59L10.3 9.45l-7.72 7.72c-.78.78-.78 2.05 0 2.83L4 21.41c.39.39.9.59 1.41.59.51 0 1.02-.2 1.41-.59l7.78-7.78 2.81-2.81c.8-.78.8-2.07 0-2.86zM5.41 20L4 18.59l7.72-7.72 1.47 1.35L5.41 20z\"/>\n",
              "  </svg>\n",
              "      </button>\n",
              "      \n",
              "  <style>\n",
              "    .colab-df-container {\n",
              "      display:flex;\n",
              "      flex-wrap:wrap;\n",
              "      gap: 12px;\n",
              "    }\n",
              "\n",
              "    .colab-df-convert {\n",
              "      background-color: #E8F0FE;\n",
              "      border: none;\n",
              "      border-radius: 50%;\n",
              "      cursor: pointer;\n",
              "      display: none;\n",
              "      fill: #1967D2;\n",
              "      height: 32px;\n",
              "      padding: 0 0 0 0;\n",
              "      width: 32px;\n",
              "    }\n",
              "\n",
              "    .colab-df-convert:hover {\n",
              "      background-color: #E2EBFA;\n",
              "      box-shadow: 0px 1px 2px rgba(60, 64, 67, 0.3), 0px 1px 3px 1px rgba(60, 64, 67, 0.15);\n",
              "      fill: #174EA6;\n",
              "    }\n",
              "\n",
              "    [theme=dark] .colab-df-convert {\n",
              "      background-color: #3B4455;\n",
              "      fill: #D2E3FC;\n",
              "    }\n",
              "\n",
              "    [theme=dark] .colab-df-convert:hover {\n",
              "      background-color: #434B5C;\n",
              "      box-shadow: 0px 1px 3px 1px rgba(0, 0, 0, 0.15);\n",
              "      filter: drop-shadow(0px 1px 2px rgba(0, 0, 0, 0.3));\n",
              "      fill: #FFFFFF;\n",
              "    }\n",
              "  </style>\n",
              "\n",
              "      <script>\n",
              "        const buttonEl =\n",
              "          document.querySelector('#df-7ec31977-57c8-4abf-9d71-bc4450e9b70b button.colab-df-convert');\n",
              "        buttonEl.style.display =\n",
              "          google.colab.kernel.accessAllowed ? 'block' : 'none';\n",
              "\n",
              "        async function convertToInteractive(key) {\n",
              "          const element = document.querySelector('#df-7ec31977-57c8-4abf-9d71-bc4450e9b70b');\n",
              "          const dataTable =\n",
              "            await google.colab.kernel.invokeFunction('convertToInteractive',\n",
              "                                                     [key], {});\n",
              "          if (!dataTable) return;\n",
              "\n",
              "          const docLinkHtml = 'Like what you see? Visit the ' +\n",
              "            '<a target=\"_blank\" href=https://colab.research.google.com/notebooks/data_table.ipynb>data table notebook</a>'\n",
              "            + ' to learn more about interactive tables.';\n",
              "          element.innerHTML = '';\n",
              "          dataTable['output_type'] = 'display_data';\n",
              "          await google.colab.output.renderOutput(dataTable, element);\n",
              "          const docLink = document.createElement('div');\n",
              "          docLink.innerHTML = docLinkHtml;\n",
              "          element.appendChild(docLink);\n",
              "        }\n",
              "      </script>\n",
              "    </div>\n",
              "  </div>\n",
              "  "
            ]
          },
          "metadata": {},
          "execution_count": 10
        }
      ]
    },
    {
      "cell_type": "code",
      "source": [
        "new_df = df.loc[(df['Type 1']=='Grass') & (df['Type 2']=='Ice') & (df['HP']>70)]\n",
        "print(new_df)"
      ],
      "metadata": {
        "colab": {
          "base_uri": "https://localhost:8080/"
        },
        "id": "OkplLTF-QAIt",
        "outputId": "a3143f18-baf0-470b-b159-9cee72e354e3"
      },
      "execution_count": null,
      "outputs": [
        {
          "output_type": "stream",
          "name": "stdout",
          "text": [
            "     Unnamed: 0    #                     Name Type 1 Type 2  HP  Attack  \\\n",
            "510         510  460                Abomasnow  Grass    Ice  90      92   \n",
            "511         511  460  AbomasnowMega Abomasnow  Grass    Ice  90     132   \n",
            "\n",
            "     Defense  Sp. Atk  Sp. Def  Speed  Generation  Legendary   Avg_speed  \\\n",
            "510       75       92       85     60           4      False   93.416667   \n",
            "511      105      132      105     30           4      False  135.500000   \n",
            "\n",
            "     count  \n",
            "510      1  \n",
            "511      1  \n"
          ]
        }
      ]
    },
    {
      "cell_type": "code",
      "source": [
        "df.groupby(['Type 1','Type 2']).count()"
      ],
      "metadata": {
        "colab": {
          "base_uri": "https://localhost:8080/",
          "height": 554
        },
        "id": "V7UYCCGSRrxa",
        "outputId": "bbf27063-4700-495a-adc7-26ab207e7119"
      },
      "execution_count": null,
      "outputs": [
        {
          "output_type": "execute_result",
          "data": {
            "text/plain": [
              "                 Unnamed: 0   #  Name  HP  Attack  Defense  Sp. Atk  Sp. Def  \\\n",
              "Type 1 Type 2                                                                  \n",
              "Bug    Electric           2   2     2   2       2        2        2        2   \n",
              "       Fighting           2   2     2   2       2        2        2        2   \n",
              "       Fire               2   2     2   2       2        2        2        2   \n",
              "       Flying            14  14    14  14      14       14       14       14   \n",
              "       Ghost              1   1     1   1       1        1        1        1   \n",
              "...                     ...  ..   ...  ..     ...      ...      ...      ...   \n",
              "Water  Ice                3   3     3   3       3        3        3        3   \n",
              "       Poison             3   3     3   3       3        3        3        3   \n",
              "       Psychic            5   5     5   5       5        5        5        5   \n",
              "       Rock               4   4     4   4       4        4        4        4   \n",
              "       Steel              1   1     1   1       1        1        1        1   \n",
              "\n",
              "                 Speed  Generation  Legendary  Avg_speed  count  \n",
              "Type 1 Type 2                                                    \n",
              "Bug    Electric      2           2          2          2      2  \n",
              "       Fighting      2           2          2          2      2  \n",
              "       Fire          2           2          2          2      2  \n",
              "       Flying       14          14         14         14     14  \n",
              "       Ghost         1           1          1          1      1  \n",
              "...                ...         ...        ...        ...    ...  \n",
              "Water  Ice           3           3          3          3      3  \n",
              "       Poison        3           3          3          3      3  \n",
              "       Psychic       5           5          5          5      5  \n",
              "       Rock          4           4          4          4      4  \n",
              "       Steel         1           1          1          1      1  \n",
              "\n",
              "[136 rows x 13 columns]"
            ],
            "text/html": [
              "\n",
              "  <div id=\"df-cfe5b530-d553-4dd7-af14-bd1fca157cf5\">\n",
              "    <div class=\"colab-df-container\">\n",
              "      <div>\n",
              "<style scoped>\n",
              "    .dataframe tbody tr th:only-of-type {\n",
              "        vertical-align: middle;\n",
              "    }\n",
              "\n",
              "    .dataframe tbody tr th {\n",
              "        vertical-align: top;\n",
              "    }\n",
              "\n",
              "    .dataframe thead th {\n",
              "        text-align: right;\n",
              "    }\n",
              "</style>\n",
              "<table border=\"1\" class=\"dataframe\">\n",
              "  <thead>\n",
              "    <tr style=\"text-align: right;\">\n",
              "      <th></th>\n",
              "      <th></th>\n",
              "      <th>Unnamed: 0</th>\n",
              "      <th>#</th>\n",
              "      <th>Name</th>\n",
              "      <th>HP</th>\n",
              "      <th>Attack</th>\n",
              "      <th>Defense</th>\n",
              "      <th>Sp. Atk</th>\n",
              "      <th>Sp. Def</th>\n",
              "      <th>Speed</th>\n",
              "      <th>Generation</th>\n",
              "      <th>Legendary</th>\n",
              "      <th>Avg_speed</th>\n",
              "      <th>count</th>\n",
              "    </tr>\n",
              "    <tr>\n",
              "      <th>Type 1</th>\n",
              "      <th>Type 2</th>\n",
              "      <th></th>\n",
              "      <th></th>\n",
              "      <th></th>\n",
              "      <th></th>\n",
              "      <th></th>\n",
              "      <th></th>\n",
              "      <th></th>\n",
              "      <th></th>\n",
              "      <th></th>\n",
              "      <th></th>\n",
              "      <th></th>\n",
              "      <th></th>\n",
              "      <th></th>\n",
              "    </tr>\n",
              "  </thead>\n",
              "  <tbody>\n",
              "    <tr>\n",
              "      <th rowspan=\"5\" valign=\"top\">Bug</th>\n",
              "      <th>Electric</th>\n",
              "      <td>2</td>\n",
              "      <td>2</td>\n",
              "      <td>2</td>\n",
              "      <td>2</td>\n",
              "      <td>2</td>\n",
              "      <td>2</td>\n",
              "      <td>2</td>\n",
              "      <td>2</td>\n",
              "      <td>2</td>\n",
              "      <td>2</td>\n",
              "      <td>2</td>\n",
              "      <td>2</td>\n",
              "      <td>2</td>\n",
              "    </tr>\n",
              "    <tr>\n",
              "      <th>Fighting</th>\n",
              "      <td>2</td>\n",
              "      <td>2</td>\n",
              "      <td>2</td>\n",
              "      <td>2</td>\n",
              "      <td>2</td>\n",
              "      <td>2</td>\n",
              "      <td>2</td>\n",
              "      <td>2</td>\n",
              "      <td>2</td>\n",
              "      <td>2</td>\n",
              "      <td>2</td>\n",
              "      <td>2</td>\n",
              "      <td>2</td>\n",
              "    </tr>\n",
              "    <tr>\n",
              "      <th>Fire</th>\n",
              "      <td>2</td>\n",
              "      <td>2</td>\n",
              "      <td>2</td>\n",
              "      <td>2</td>\n",
              "      <td>2</td>\n",
              "      <td>2</td>\n",
              "      <td>2</td>\n",
              "      <td>2</td>\n",
              "      <td>2</td>\n",
              "      <td>2</td>\n",
              "      <td>2</td>\n",
              "      <td>2</td>\n",
              "      <td>2</td>\n",
              "    </tr>\n",
              "    <tr>\n",
              "      <th>Flying</th>\n",
              "      <td>14</td>\n",
              "      <td>14</td>\n",
              "      <td>14</td>\n",
              "      <td>14</td>\n",
              "      <td>14</td>\n",
              "      <td>14</td>\n",
              "      <td>14</td>\n",
              "      <td>14</td>\n",
              "      <td>14</td>\n",
              "      <td>14</td>\n",
              "      <td>14</td>\n",
              "      <td>14</td>\n",
              "      <td>14</td>\n",
              "    </tr>\n",
              "    <tr>\n",
              "      <th>Ghost</th>\n",
              "      <td>1</td>\n",
              "      <td>1</td>\n",
              "      <td>1</td>\n",
              "      <td>1</td>\n",
              "      <td>1</td>\n",
              "      <td>1</td>\n",
              "      <td>1</td>\n",
              "      <td>1</td>\n",
              "      <td>1</td>\n",
              "      <td>1</td>\n",
              "      <td>1</td>\n",
              "      <td>1</td>\n",
              "      <td>1</td>\n",
              "    </tr>\n",
              "    <tr>\n",
              "      <th>...</th>\n",
              "      <th>...</th>\n",
              "      <td>...</td>\n",
              "      <td>...</td>\n",
              "      <td>...</td>\n",
              "      <td>...</td>\n",
              "      <td>...</td>\n",
              "      <td>...</td>\n",
              "      <td>...</td>\n",
              "      <td>...</td>\n",
              "      <td>...</td>\n",
              "      <td>...</td>\n",
              "      <td>...</td>\n",
              "      <td>...</td>\n",
              "      <td>...</td>\n",
              "    </tr>\n",
              "    <tr>\n",
              "      <th rowspan=\"5\" valign=\"top\">Water</th>\n",
              "      <th>Ice</th>\n",
              "      <td>3</td>\n",
              "      <td>3</td>\n",
              "      <td>3</td>\n",
              "      <td>3</td>\n",
              "      <td>3</td>\n",
              "      <td>3</td>\n",
              "      <td>3</td>\n",
              "      <td>3</td>\n",
              "      <td>3</td>\n",
              "      <td>3</td>\n",
              "      <td>3</td>\n",
              "      <td>3</td>\n",
              "      <td>3</td>\n",
              "    </tr>\n",
              "    <tr>\n",
              "      <th>Poison</th>\n",
              "      <td>3</td>\n",
              "      <td>3</td>\n",
              "      <td>3</td>\n",
              "      <td>3</td>\n",
              "      <td>3</td>\n",
              "      <td>3</td>\n",
              "      <td>3</td>\n",
              "      <td>3</td>\n",
              "      <td>3</td>\n",
              "      <td>3</td>\n",
              "      <td>3</td>\n",
              "      <td>3</td>\n",
              "      <td>3</td>\n",
              "    </tr>\n",
              "    <tr>\n",
              "      <th>Psychic</th>\n",
              "      <td>5</td>\n",
              "      <td>5</td>\n",
              "      <td>5</td>\n",
              "      <td>5</td>\n",
              "      <td>5</td>\n",
              "      <td>5</td>\n",
              "      <td>5</td>\n",
              "      <td>5</td>\n",
              "      <td>5</td>\n",
              "      <td>5</td>\n",
              "      <td>5</td>\n",
              "      <td>5</td>\n",
              "      <td>5</td>\n",
              "    </tr>\n",
              "    <tr>\n",
              "      <th>Rock</th>\n",
              "      <td>4</td>\n",
              "      <td>4</td>\n",
              "      <td>4</td>\n",
              "      <td>4</td>\n",
              "      <td>4</td>\n",
              "      <td>4</td>\n",
              "      <td>4</td>\n",
              "      <td>4</td>\n",
              "      <td>4</td>\n",
              "      <td>4</td>\n",
              "      <td>4</td>\n",
              "      <td>4</td>\n",
              "      <td>4</td>\n",
              "    </tr>\n",
              "    <tr>\n",
              "      <th>Steel</th>\n",
              "      <td>1</td>\n",
              "      <td>1</td>\n",
              "      <td>1</td>\n",
              "      <td>1</td>\n",
              "      <td>1</td>\n",
              "      <td>1</td>\n",
              "      <td>1</td>\n",
              "      <td>1</td>\n",
              "      <td>1</td>\n",
              "      <td>1</td>\n",
              "      <td>1</td>\n",
              "      <td>1</td>\n",
              "      <td>1</td>\n",
              "    </tr>\n",
              "  </tbody>\n",
              "</table>\n",
              "<p>136 rows × 13 columns</p>\n",
              "</div>\n",
              "      <button class=\"colab-df-convert\" onclick=\"convertToInteractive('df-cfe5b530-d553-4dd7-af14-bd1fca157cf5')\"\n",
              "              title=\"Convert this dataframe to an interactive table.\"\n",
              "              style=\"display:none;\">\n",
              "        \n",
              "  <svg xmlns=\"http://www.w3.org/2000/svg\" height=\"24px\"viewBox=\"0 0 24 24\"\n",
              "       width=\"24px\">\n",
              "    <path d=\"M0 0h24v24H0V0z\" fill=\"none\"/>\n",
              "    <path d=\"M18.56 5.44l.94 2.06.94-2.06 2.06-.94-2.06-.94-.94-2.06-.94 2.06-2.06.94zm-11 1L8.5 8.5l.94-2.06 2.06-.94-2.06-.94L8.5 2.5l-.94 2.06-2.06.94zm10 10l.94 2.06.94-2.06 2.06-.94-2.06-.94-.94-2.06-.94 2.06-2.06.94z\"/><path d=\"M17.41 7.96l-1.37-1.37c-.4-.4-.92-.59-1.43-.59-.52 0-1.04.2-1.43.59L10.3 9.45l-7.72 7.72c-.78.78-.78 2.05 0 2.83L4 21.41c.39.39.9.59 1.41.59.51 0 1.02-.2 1.41-.59l7.78-7.78 2.81-2.81c.8-.78.8-2.07 0-2.86zM5.41 20L4 18.59l7.72-7.72 1.47 1.35L5.41 20z\"/>\n",
              "  </svg>\n",
              "      </button>\n",
              "      \n",
              "  <style>\n",
              "    .colab-df-container {\n",
              "      display:flex;\n",
              "      flex-wrap:wrap;\n",
              "      gap: 12px;\n",
              "    }\n",
              "\n",
              "    .colab-df-convert {\n",
              "      background-color: #E8F0FE;\n",
              "      border: none;\n",
              "      border-radius: 50%;\n",
              "      cursor: pointer;\n",
              "      display: none;\n",
              "      fill: #1967D2;\n",
              "      height: 32px;\n",
              "      padding: 0 0 0 0;\n",
              "      width: 32px;\n",
              "    }\n",
              "\n",
              "    .colab-df-convert:hover {\n",
              "      background-color: #E2EBFA;\n",
              "      box-shadow: 0px 1px 2px rgba(60, 64, 67, 0.3), 0px 1px 3px 1px rgba(60, 64, 67, 0.15);\n",
              "      fill: #174EA6;\n",
              "    }\n",
              "\n",
              "    [theme=dark] .colab-df-convert {\n",
              "      background-color: #3B4455;\n",
              "      fill: #D2E3FC;\n",
              "    }\n",
              "\n",
              "    [theme=dark] .colab-df-convert:hover {\n",
              "      background-color: #434B5C;\n",
              "      box-shadow: 0px 1px 3px 1px rgba(0, 0, 0, 0.15);\n",
              "      filter: drop-shadow(0px 1px 2px rgba(0, 0, 0, 0.3));\n",
              "      fill: #FFFFFF;\n",
              "    }\n",
              "  </style>\n",
              "\n",
              "      <script>\n",
              "        const buttonEl =\n",
              "          document.querySelector('#df-cfe5b530-d553-4dd7-af14-bd1fca157cf5 button.colab-df-convert');\n",
              "        buttonEl.style.display =\n",
              "          google.colab.kernel.accessAllowed ? 'block' : 'none';\n",
              "\n",
              "        async function convertToInteractive(key) {\n",
              "          const element = document.querySelector('#df-cfe5b530-d553-4dd7-af14-bd1fca157cf5');\n",
              "          const dataTable =\n",
              "            await google.colab.kernel.invokeFunction('convertToInteractive',\n",
              "                                                     [key], {});\n",
              "          if (!dataTable) return;\n",
              "\n",
              "          const docLinkHtml = 'Like what you see? Visit the ' +\n",
              "            '<a target=\"_blank\" href=https://colab.research.google.com/notebooks/data_table.ipynb>data table notebook</a>'\n",
              "            + ' to learn more about interactive tables.';\n",
              "          element.innerHTML = '';\n",
              "          dataTable['output_type'] = 'display_data';\n",
              "          await google.colab.output.renderOutput(dataTable, element);\n",
              "          const docLink = document.createElement('div');\n",
              "          docLink.innerHTML = docLinkHtml;\n",
              "          element.appendChild(docLink);\n",
              "        }\n",
              "      </script>\n",
              "    </div>\n",
              "  </div>\n",
              "  "
            ]
          },
          "metadata": {},
          "execution_count": 12
        }
      ]
    },
    {
      "cell_type": "code",
      "source": [
        "df['HP']"
      ],
      "metadata": {
        "colab": {
          "base_uri": "https://localhost:8080/"
        },
        "id": "0ati4bzBXkvd",
        "outputId": "72c5d79a-0e22-46b2-dd81-3777bf474cbe"
      },
      "execution_count": null,
      "outputs": [
        {
          "output_type": "execute_result",
          "data": {
            "text/plain": [
              "0      45\n",
              "1      60\n",
              "2      80\n",
              "3      80\n",
              "4      39\n",
              "       ..\n",
              "795    50\n",
              "796    50\n",
              "797    80\n",
              "798    80\n",
              "799    80\n",
              "Name: HP, Length: 800, dtype: int64"
            ]
          },
          "metadata": {},
          "execution_count": 14
        }
      ]
    },
    {
      "cell_type": "code",
      "source": [
        "df.columns"
      ],
      "metadata": {
        "colab": {
          "base_uri": "https://localhost:8080/"
        },
        "id": "s2g2pkBZYf4x",
        "outputId": "08cdadae-5148-4791-c8b3-d51560cea181"
      },
      "execution_count": null,
      "outputs": [
        {
          "output_type": "execute_result",
          "data": {
            "text/plain": [
              "Index(['Unnamed: 0', '#', 'Name', 'Type 1', 'Type 2', 'HP', 'Attack',\n",
              "       'Defense', 'Sp. Atk', 'Sp. Def', 'Speed', 'Generation', 'Legendary',\n",
              "       'Avg_speed', 'count'],\n",
              "      dtype='object')"
            ]
          },
          "metadata": {},
          "execution_count": 16
        }
      ]
    },
    {
      "cell_type": "code",
      "source": [
        "df.iloc[4,2]"
      ],
      "metadata": {
        "colab": {
          "base_uri": "https://localhost:8080/",
          "height": 35
        },
        "id": "dSHc9aI3Yiol",
        "outputId": "4f86602f-9568-4fb4-e7ee-6434e16e4f0c"
      },
      "execution_count": null,
      "outputs": [
        {
          "output_type": "execute_result",
          "data": {
            "text/plain": [
              "'Charmander'"
            ],
            "application/vnd.google.colaboratory.intrinsic+json": {
              "type": "string"
            }
          },
          "metadata": {},
          "execution_count": 18
        }
      ]
    },
    {
      "cell_type": "code",
      "source": [
        "#sorting and describing the data\n",
        "\n",
        "df.sort_values(['Type 1','HP'],ascending=[1,0])"
      ],
      "metadata": {
        "colab": {
          "base_uri": "https://localhost:8080/",
          "height": 522
        },
        "id": "qeZp6m-LYmFE",
        "outputId": "bbe0ccfe-c283-4ca5-d3ad-7ce21a6c84ff"
      },
      "execution_count": null,
      "outputs": [
        {
          "output_type": "execute_result",
          "data": {
            "text/plain": [
              "     Unnamed: 0    #                     Name Type 1    Type 2  HP  Attack  \\\n",
              "520         520  469                  Yanmega    Bug    Flying  86      76   \n",
              "698         698  637                Volcarona    Bug      Fire  85      60   \n",
              "231         231  214                Heracross    Bug  Fighting  80     125   \n",
              "232         232  214  HeracrossMega Heracross    Bug  Fighting  80     185   \n",
              "678         678  617                 Accelgor    Bug       NaN  80      70   \n",
              "..          ...  ...                      ...    ...       ...  ..     ...   \n",
              "106         106   98                   Krabby  Water       NaN  30     105   \n",
              "125         125  116                   Horsea  Water       NaN  30      40   \n",
              "129         129  120                   Staryu  Water       NaN  30      45   \n",
              "139         139  129                 Magikarp  Water       NaN  20      10   \n",
              "381         381  349                   Feebas  Water       NaN  20      15   \n",
              "\n",
              "     Defense  Sp. Atk  Sp. Def  Speed  Generation  Legendary   Avg_speed  \\\n",
              "520       86      116       56     95           4      False  116.589474   \n",
              "698       65      135      105    100           5      False  136.050000   \n",
              "231       75       40       95     85           2      False   41.117647   \n",
              "232      115       40      105     75           2      False   41.400000   \n",
              "678       40      100       60    145           5      False  100.413793   \n",
              "..       ...      ...      ...    ...         ...        ...         ...   \n",
              "106       90       25       25     50           1      False   25.500000   \n",
              "125       70       70       25     60           1      False   70.416667   \n",
              "129       55       70       55     85           1      False   70.647059   \n",
              "139       55       15       20     80           1      False   15.250000   \n",
              "381       20       10       55     80           3      False   10.687500   \n",
              "\n",
              "     count  \n",
              "520      1  \n",
              "698      1  \n",
              "231      1  \n",
              "232      1  \n",
              "678      1  \n",
              "..     ...  \n",
              "106      1  \n",
              "125      1  \n",
              "129      1  \n",
              "139      1  \n",
              "381      1  \n",
              "\n",
              "[800 rows x 15 columns]"
            ],
            "text/html": [
              "\n",
              "  <div id=\"df-517a8e48-e898-4265-8c35-ac5b6e1d9485\">\n",
              "    <div class=\"colab-df-container\">\n",
              "      <div>\n",
              "<style scoped>\n",
              "    .dataframe tbody tr th:only-of-type {\n",
              "        vertical-align: middle;\n",
              "    }\n",
              "\n",
              "    .dataframe tbody tr th {\n",
              "        vertical-align: top;\n",
              "    }\n",
              "\n",
              "    .dataframe thead th {\n",
              "        text-align: right;\n",
              "    }\n",
              "</style>\n",
              "<table border=\"1\" class=\"dataframe\">\n",
              "  <thead>\n",
              "    <tr style=\"text-align: right;\">\n",
              "      <th></th>\n",
              "      <th>Unnamed: 0</th>\n",
              "      <th>#</th>\n",
              "      <th>Name</th>\n",
              "      <th>Type 1</th>\n",
              "      <th>Type 2</th>\n",
              "      <th>HP</th>\n",
              "      <th>Attack</th>\n",
              "      <th>Defense</th>\n",
              "      <th>Sp. Atk</th>\n",
              "      <th>Sp. Def</th>\n",
              "      <th>Speed</th>\n",
              "      <th>Generation</th>\n",
              "      <th>Legendary</th>\n",
              "      <th>Avg_speed</th>\n",
              "      <th>count</th>\n",
              "    </tr>\n",
              "  </thead>\n",
              "  <tbody>\n",
              "    <tr>\n",
              "      <th>520</th>\n",
              "      <td>520</td>\n",
              "      <td>469</td>\n",
              "      <td>Yanmega</td>\n",
              "      <td>Bug</td>\n",
              "      <td>Flying</td>\n",
              "      <td>86</td>\n",
              "      <td>76</td>\n",
              "      <td>86</td>\n",
              "      <td>116</td>\n",
              "      <td>56</td>\n",
              "      <td>95</td>\n",
              "      <td>4</td>\n",
              "      <td>False</td>\n",
              "      <td>116.589474</td>\n",
              "      <td>1</td>\n",
              "    </tr>\n",
              "    <tr>\n",
              "      <th>698</th>\n",
              "      <td>698</td>\n",
              "      <td>637</td>\n",
              "      <td>Volcarona</td>\n",
              "      <td>Bug</td>\n",
              "      <td>Fire</td>\n",
              "      <td>85</td>\n",
              "      <td>60</td>\n",
              "      <td>65</td>\n",
              "      <td>135</td>\n",
              "      <td>105</td>\n",
              "      <td>100</td>\n",
              "      <td>5</td>\n",
              "      <td>False</td>\n",
              "      <td>136.050000</td>\n",
              "      <td>1</td>\n",
              "    </tr>\n",
              "    <tr>\n",
              "      <th>231</th>\n",
              "      <td>231</td>\n",
              "      <td>214</td>\n",
              "      <td>Heracross</td>\n",
              "      <td>Bug</td>\n",
              "      <td>Fighting</td>\n",
              "      <td>80</td>\n",
              "      <td>125</td>\n",
              "      <td>75</td>\n",
              "      <td>40</td>\n",
              "      <td>95</td>\n",
              "      <td>85</td>\n",
              "      <td>2</td>\n",
              "      <td>False</td>\n",
              "      <td>41.117647</td>\n",
              "      <td>1</td>\n",
              "    </tr>\n",
              "    <tr>\n",
              "      <th>232</th>\n",
              "      <td>232</td>\n",
              "      <td>214</td>\n",
              "      <td>HeracrossMega Heracross</td>\n",
              "      <td>Bug</td>\n",
              "      <td>Fighting</td>\n",
              "      <td>80</td>\n",
              "      <td>185</td>\n",
              "      <td>115</td>\n",
              "      <td>40</td>\n",
              "      <td>105</td>\n",
              "      <td>75</td>\n",
              "      <td>2</td>\n",
              "      <td>False</td>\n",
              "      <td>41.400000</td>\n",
              "      <td>1</td>\n",
              "    </tr>\n",
              "    <tr>\n",
              "      <th>678</th>\n",
              "      <td>678</td>\n",
              "      <td>617</td>\n",
              "      <td>Accelgor</td>\n",
              "      <td>Bug</td>\n",
              "      <td>NaN</td>\n",
              "      <td>80</td>\n",
              "      <td>70</td>\n",
              "      <td>40</td>\n",
              "      <td>100</td>\n",
              "      <td>60</td>\n",
              "      <td>145</td>\n",
              "      <td>5</td>\n",
              "      <td>False</td>\n",
              "      <td>100.413793</td>\n",
              "      <td>1</td>\n",
              "    </tr>\n",
              "    <tr>\n",
              "      <th>...</th>\n",
              "      <td>...</td>\n",
              "      <td>...</td>\n",
              "      <td>...</td>\n",
              "      <td>...</td>\n",
              "      <td>...</td>\n",
              "      <td>...</td>\n",
              "      <td>...</td>\n",
              "      <td>...</td>\n",
              "      <td>...</td>\n",
              "      <td>...</td>\n",
              "      <td>...</td>\n",
              "      <td>...</td>\n",
              "      <td>...</td>\n",
              "      <td>...</td>\n",
              "      <td>...</td>\n",
              "    </tr>\n",
              "    <tr>\n",
              "      <th>106</th>\n",
              "      <td>106</td>\n",
              "      <td>98</td>\n",
              "      <td>Krabby</td>\n",
              "      <td>Water</td>\n",
              "      <td>NaN</td>\n",
              "      <td>30</td>\n",
              "      <td>105</td>\n",
              "      <td>90</td>\n",
              "      <td>25</td>\n",
              "      <td>25</td>\n",
              "      <td>50</td>\n",
              "      <td>1</td>\n",
              "      <td>False</td>\n",
              "      <td>25.500000</td>\n",
              "      <td>1</td>\n",
              "    </tr>\n",
              "    <tr>\n",
              "      <th>125</th>\n",
              "      <td>125</td>\n",
              "      <td>116</td>\n",
              "      <td>Horsea</td>\n",
              "      <td>Water</td>\n",
              "      <td>NaN</td>\n",
              "      <td>30</td>\n",
              "      <td>40</td>\n",
              "      <td>70</td>\n",
              "      <td>70</td>\n",
              "      <td>25</td>\n",
              "      <td>60</td>\n",
              "      <td>1</td>\n",
              "      <td>False</td>\n",
              "      <td>70.416667</td>\n",
              "      <td>1</td>\n",
              "    </tr>\n",
              "    <tr>\n",
              "      <th>129</th>\n",
              "      <td>129</td>\n",
              "      <td>120</td>\n",
              "      <td>Staryu</td>\n",
              "      <td>Water</td>\n",
              "      <td>NaN</td>\n",
              "      <td>30</td>\n",
              "      <td>45</td>\n",
              "      <td>55</td>\n",
              "      <td>70</td>\n",
              "      <td>55</td>\n",
              "      <td>85</td>\n",
              "      <td>1</td>\n",
              "      <td>False</td>\n",
              "      <td>70.647059</td>\n",
              "      <td>1</td>\n",
              "    </tr>\n",
              "    <tr>\n",
              "      <th>139</th>\n",
              "      <td>139</td>\n",
              "      <td>129</td>\n",
              "      <td>Magikarp</td>\n",
              "      <td>Water</td>\n",
              "      <td>NaN</td>\n",
              "      <td>20</td>\n",
              "      <td>10</td>\n",
              "      <td>55</td>\n",
              "      <td>15</td>\n",
              "      <td>20</td>\n",
              "      <td>80</td>\n",
              "      <td>1</td>\n",
              "      <td>False</td>\n",
              "      <td>15.250000</td>\n",
              "      <td>1</td>\n",
              "    </tr>\n",
              "    <tr>\n",
              "      <th>381</th>\n",
              "      <td>381</td>\n",
              "      <td>349</td>\n",
              "      <td>Feebas</td>\n",
              "      <td>Water</td>\n",
              "      <td>NaN</td>\n",
              "      <td>20</td>\n",
              "      <td>15</td>\n",
              "      <td>20</td>\n",
              "      <td>10</td>\n",
              "      <td>55</td>\n",
              "      <td>80</td>\n",
              "      <td>3</td>\n",
              "      <td>False</td>\n",
              "      <td>10.687500</td>\n",
              "      <td>1</td>\n",
              "    </tr>\n",
              "  </tbody>\n",
              "</table>\n",
              "<p>800 rows × 15 columns</p>\n",
              "</div>\n",
              "      <button class=\"colab-df-convert\" onclick=\"convertToInteractive('df-517a8e48-e898-4265-8c35-ac5b6e1d9485')\"\n",
              "              title=\"Convert this dataframe to an interactive table.\"\n",
              "              style=\"display:none;\">\n",
              "        \n",
              "  <svg xmlns=\"http://www.w3.org/2000/svg\" height=\"24px\"viewBox=\"0 0 24 24\"\n",
              "       width=\"24px\">\n",
              "    <path d=\"M0 0h24v24H0V0z\" fill=\"none\"/>\n",
              "    <path d=\"M18.56 5.44l.94 2.06.94-2.06 2.06-.94-2.06-.94-.94-2.06-.94 2.06-2.06.94zm-11 1L8.5 8.5l.94-2.06 2.06-.94-2.06-.94L8.5 2.5l-.94 2.06-2.06.94zm10 10l.94 2.06.94-2.06 2.06-.94-2.06-.94-.94-2.06-.94 2.06-2.06.94z\"/><path d=\"M17.41 7.96l-1.37-1.37c-.4-.4-.92-.59-1.43-.59-.52 0-1.04.2-1.43.59L10.3 9.45l-7.72 7.72c-.78.78-.78 2.05 0 2.83L4 21.41c.39.39.9.59 1.41.59.51 0 1.02-.2 1.41-.59l7.78-7.78 2.81-2.81c.8-.78.8-2.07 0-2.86zM5.41 20L4 18.59l7.72-7.72 1.47 1.35L5.41 20z\"/>\n",
              "  </svg>\n",
              "      </button>\n",
              "      \n",
              "  <style>\n",
              "    .colab-df-container {\n",
              "      display:flex;\n",
              "      flex-wrap:wrap;\n",
              "      gap: 12px;\n",
              "    }\n",
              "\n",
              "    .colab-df-convert {\n",
              "      background-color: #E8F0FE;\n",
              "      border: none;\n",
              "      border-radius: 50%;\n",
              "      cursor: pointer;\n",
              "      display: none;\n",
              "      fill: #1967D2;\n",
              "      height: 32px;\n",
              "      padding: 0 0 0 0;\n",
              "      width: 32px;\n",
              "    }\n",
              "\n",
              "    .colab-df-convert:hover {\n",
              "      background-color: #E2EBFA;\n",
              "      box-shadow: 0px 1px 2px rgba(60, 64, 67, 0.3), 0px 1px 3px 1px rgba(60, 64, 67, 0.15);\n",
              "      fill: #174EA6;\n",
              "    }\n",
              "\n",
              "    [theme=dark] .colab-df-convert {\n",
              "      background-color: #3B4455;\n",
              "      fill: #D2E3FC;\n",
              "    }\n",
              "\n",
              "    [theme=dark] .colab-df-convert:hover {\n",
              "      background-color: #434B5C;\n",
              "      box-shadow: 0px 1px 3px 1px rgba(0, 0, 0, 0.15);\n",
              "      filter: drop-shadow(0px 1px 2px rgba(0, 0, 0, 0.3));\n",
              "      fill: #FFFFFF;\n",
              "    }\n",
              "  </style>\n",
              "\n",
              "      <script>\n",
              "        const buttonEl =\n",
              "          document.querySelector('#df-517a8e48-e898-4265-8c35-ac5b6e1d9485 button.colab-df-convert');\n",
              "        buttonEl.style.display =\n",
              "          google.colab.kernel.accessAllowed ? 'block' : 'none';\n",
              "\n",
              "        async function convertToInteractive(key) {\n",
              "          const element = document.querySelector('#df-517a8e48-e898-4265-8c35-ac5b6e1d9485');\n",
              "          const dataTable =\n",
              "            await google.colab.kernel.invokeFunction('convertToInteractive',\n",
              "                                                     [key], {});\n",
              "          if (!dataTable) return;\n",
              "\n",
              "          const docLinkHtml = 'Like what you see? Visit the ' +\n",
              "            '<a target=\"_blank\" href=https://colab.research.google.com/notebooks/data_table.ipynb>data table notebook</a>'\n",
              "            + ' to learn more about interactive tables.';\n",
              "          element.innerHTML = '';\n",
              "          dataTable['output_type'] = 'display_data';\n",
              "          await google.colab.output.renderOutput(dataTable, element);\n",
              "          const docLink = document.createElement('div');\n",
              "          docLink.innerHTML = docLinkHtml;\n",
              "          element.appendChild(docLink);\n",
              "        }\n",
              "      </script>\n",
              "    </div>\n",
              "  </div>\n",
              "  "
            ]
          },
          "metadata": {},
          "execution_count": 25
        }
      ]
    },
    {
      "cell_type": "code",
      "source": [
        "df['total']=df['HP']+df['Attack']+df['Defense']+df['Sp. Atk']+df['Sp. Def']+df['Speed']\n",
        "df['total']"
      ],
      "metadata": {
        "colab": {
          "base_uri": "https://localhost:8080/"
        },
        "id": "1bSsp3BKY2KQ",
        "outputId": "15e73ad3-eb75-4f40-f8e8-d05c64ff8a1d"
      },
      "execution_count": null,
      "outputs": [
        {
          "output_type": "execute_result",
          "data": {
            "text/plain": [
              "0      318\n",
              "1      405\n",
              "2      525\n",
              "3      625\n",
              "4      309\n",
              "      ... \n",
              "795    600\n",
              "796    700\n",
              "797    600\n",
              "798    680\n",
              "799    600\n",
              "Name: total, Length: 800, dtype: int64"
            ]
          },
          "metadata": {},
          "execution_count": 33
        }
      ]
    },
    {
      "cell_type": "code",
      "source": [
        "!pip3 install numpy"
      ],
      "metadata": {
        "colab": {
          "base_uri": "https://localhost:8080/"
        },
        "id": "nYVSQvhmiFP8",
        "outputId": "db123cad-9112-4720-b431-e8624209a538"
      },
      "execution_count": null,
      "outputs": [
        {
          "output_type": "stream",
          "name": "stdout",
          "text": [
            "Requirement already satisfied: numpy in /usr/local/lib/python3.7/dist-packages (1.21.5)\n"
          ]
        }
      ]
    },
    {
      "cell_type": "code",
      "source": [
        "import numpy as np"
      ],
      "metadata": {
        "id": "4fCl6VK1iujP"
      },
      "execution_count": null,
      "outputs": []
    },
    {
      "cell_type": "code",
      "source": [
        "a = np.empty((3,2,1))\n",
        "a"
      ],
      "metadata": {
        "colab": {
          "base_uri": "https://localhost:8080/"
        },
        "id": "gFKve5WNiyWb",
        "outputId": "533e84c1-621f-4e1f-9ef0-ce07e654a492"
      },
      "execution_count": null,
      "outputs": [
        {
          "output_type": "execute_result",
          "data": {
            "text/plain": [
              "array([[[4.63934396e-310],\n",
              "        [0.00000000e+000]],\n",
              "\n",
              "       [[0.00000000e+000],\n",
              "        [0.00000000e+000]],\n",
              "\n",
              "       [[0.00000000e+000],\n",
              "        [0.00000000e+000]]])"
            ]
          },
          "metadata": {},
          "execution_count": 38
        }
      ]
    },
    {
      "cell_type": "code",
      "source": [
        "np.empty((2,1))"
      ],
      "metadata": {
        "colab": {
          "base_uri": "https://localhost:8080/"
        },
        "id": "BGbSa4y6jwuw",
        "outputId": "fff6e1c3-fce5-47d0-a296-71a77b30744b"
      },
      "execution_count": null,
      "outputs": [
        {
          "output_type": "execute_result",
          "data": {
            "text/plain": [
              "array([[0.e+000],\n",
              "       [5.e-324]])"
            ]
          },
          "metadata": {},
          "execution_count": 40
        }
      ]
    },
    {
      "cell_type": "code",
      "source": [
        "np.empty((1))"
      ],
      "metadata": {
        "colab": {
          "base_uri": "https://localhost:8080/"
        },
        "id": "9YPzJLO2kToT",
        "outputId": "e4f207de-b648-4ba5-d817-bd0ec783eb55"
      },
      "execution_count": null,
      "outputs": [
        {
          "output_type": "execute_result",
          "data": {
            "text/plain": [
              "array([5.e-324])"
            ]
          },
          "metadata": {},
          "execution_count": 42
        }
      ]
    },
    {
      "cell_type": "code",
      "source": [
        "np.zeros((3,2,1))"
      ],
      "metadata": {
        "colab": {
          "base_uri": "https://localhost:8080/"
        },
        "id": "Ep18Rvh-kWxj",
        "outputId": "5127f941-2910-4252-a5b8-9cf307660290"
      },
      "execution_count": null,
      "outputs": [
        {
          "output_type": "execute_result",
          "data": {
            "text/plain": [
              "array([[[0.],\n",
              "        [0.]],\n",
              "\n",
              "       [[0.],\n",
              "        [0.]],\n",
              "\n",
              "       [[0.],\n",
              "        [0.]]])"
            ]
          },
          "metadata": {},
          "execution_count": 44
        }
      ]
    },
    {
      "cell_type": "code",
      "source": [
        "a=np.arange(2,10)"
      ],
      "metadata": {
        "colab": {
          "base_uri": "https://localhost:8080/"
        },
        "id": "V-dRPQylkdfq",
        "outputId": "5e5da377-9539-4c37-f116-b8b1449e6241"
      },
      "execution_count": null,
      "outputs": [
        {
          "output_type": "execute_result",
          "data": {
            "text/plain": [
              "array([2, 3, 4, 5, 6, 7, 8, 9])"
            ]
          },
          "metadata": {},
          "execution_count": 47
        }
      ]
    },
    {
      "cell_type": "code",
      "source": [
        "type(a)"
      ],
      "metadata": {
        "colab": {
          "base_uri": "https://localhost:8080/"
        },
        "id": "-eIKC2aOko10",
        "outputId": "82e5f69c-80e0-4d26-caeb-37040152e57b"
      },
      "execution_count": null,
      "outputs": [
        {
          "output_type": "execute_result",
          "data": {
            "text/plain": [
              "numpy.ndarray"
            ]
          },
          "metadata": {},
          "execution_count": 49
        }
      ]
    },
    {
      "cell_type": "code",
      "source": [
        "np.linspace(10,20)"
      ],
      "metadata": {
        "colab": {
          "base_uri": "https://localhost:8080/"
        },
        "id": "b8CgyTzIkxF4",
        "outputId": "3d068f21-dc8e-4447-f690-19a430f01b59"
      },
      "execution_count": null,
      "outputs": [
        {
          "output_type": "execute_result",
          "data": {
            "text/plain": [
              "array([10.        , 10.20408163, 10.40816327, 10.6122449 , 10.81632653,\n",
              "       11.02040816, 11.2244898 , 11.42857143, 11.63265306, 11.83673469,\n",
              "       12.04081633, 12.24489796, 12.44897959, 12.65306122, 12.85714286,\n",
              "       13.06122449, 13.26530612, 13.46938776, 13.67346939, 13.87755102,\n",
              "       14.08163265, 14.28571429, 14.48979592, 14.69387755, 14.89795918,\n",
              "       15.10204082, 15.30612245, 15.51020408, 15.71428571, 15.91836735,\n",
              "       16.12244898, 16.32653061, 16.53061224, 16.73469388, 16.93877551,\n",
              "       17.14285714, 17.34693878, 17.55102041, 17.75510204, 17.95918367,\n",
              "       18.16326531, 18.36734694, 18.57142857, 18.7755102 , 18.97959184,\n",
              "       19.18367347, 19.3877551 , 19.59183673, 19.79591837, 20.        ])"
            ]
          },
          "metadata": {},
          "execution_count": 50
        }
      ]
    },
    {
      "cell_type": "markdown",
      "source": [
        ""
      ],
      "metadata": {
        "id": "vCrBPszVlFpf"
      }
    },
    {
      "cell_type": "code",
      "source": [
        "10.20408163 - 10"
      ],
      "metadata": {
        "colab": {
          "base_uri": "https://localhost:8080/"
        },
        "id": "lJbP7kNPlHka",
        "outputId": "795d937d-f453-45c0-e796-b543b85aa5c8"
      },
      "execution_count": null,
      "outputs": [
        {
          "output_type": "execute_result",
          "data": {
            "text/plain": [
              "0.20408162999999924"
            ]
          },
          "metadata": {},
          "execution_count": 52
        }
      ]
    },
    {
      "cell_type": "code",
      "source": [
        "np.linspace(1,10,5)"
      ],
      "metadata": {
        "colab": {
          "base_uri": "https://localhost:8080/"
        },
        "id": "xsxNsGX-lOxp",
        "outputId": "41e1b3c3-a87d-4122-f575-fe549820c422"
      },
      "execution_count": null,
      "outputs": [
        {
          "output_type": "execute_result",
          "data": {
            "text/plain": [
              "array([ 1.  ,  3.25,  5.5 ,  7.75, 10.  ])"
            ]
          },
          "metadata": {},
          "execution_count": 54
        }
      ]
    },
    {
      "cell_type": "code",
      "source": [
        "np.linspace(1,10)"
      ],
      "metadata": {
        "colab": {
          "base_uri": "https://localhost:8080/"
        },
        "id": "qNR_8GBZlv6e",
        "outputId": "aa4723f3-c8f9-4af9-bef1-fe309b499d3a"
      },
      "execution_count": null,
      "outputs": [
        {
          "output_type": "execute_result",
          "data": {
            "text/plain": [
              "array([ 1.        ,  1.18367347,  1.36734694,  1.55102041,  1.73469388,\n",
              "        1.91836735,  2.10204082,  2.28571429,  2.46938776,  2.65306122,\n",
              "        2.83673469,  3.02040816,  3.20408163,  3.3877551 ,  3.57142857,\n",
              "        3.75510204,  3.93877551,  4.12244898,  4.30612245,  4.48979592,\n",
              "        4.67346939,  4.85714286,  5.04081633,  5.2244898 ,  5.40816327,\n",
              "        5.59183673,  5.7755102 ,  5.95918367,  6.14285714,  6.32653061,\n",
              "        6.51020408,  6.69387755,  6.87755102,  7.06122449,  7.24489796,\n",
              "        7.42857143,  7.6122449 ,  7.79591837,  7.97959184,  8.16326531,\n",
              "        8.34693878,  8.53061224,  8.71428571,  8.89795918,  9.08163265,\n",
              "        9.26530612,  9.44897959,  9.63265306,  9.81632653, 10.        ])"
            ]
          },
          "metadata": {},
          "execution_count": 60
        }
      ]
    },
    {
      "cell_type": "code",
      "source": [
        "3.25 - 1.00"
      ],
      "metadata": {
        "colab": {
          "base_uri": "https://localhost:8080/"
        },
        "id": "I7ZWGbBeljjh",
        "outputId": "2d7b6ac9-fd7c-4015-9093-707aeb843472"
      },
      "execution_count": null,
      "outputs": [
        {
          "output_type": "execute_result",
          "data": {
            "text/plain": [
              "2.25"
            ]
          },
          "metadata": {},
          "execution_count": 56
        }
      ]
    },
    {
      "cell_type": "code",
      "source": [
        "5.5 - 3.25"
      ],
      "metadata": {
        "colab": {
          "base_uri": "https://localhost:8080/"
        },
        "id": "HObc5KfAlmWo",
        "outputId": "380d3f2a-50c4-4e86-f76b-5ef6e4db9c96"
      },
      "execution_count": null,
      "outputs": [
        {
          "output_type": "execute_result",
          "data": {
            "text/plain": [
              "2.25"
            ]
          },
          "metadata": {},
          "execution_count": 58
        }
      ]
    },
    {
      "cell_type": "code",
      "source": [
        "np.logspace(1,10)"
      ],
      "metadata": {
        "colab": {
          "base_uri": "https://localhost:8080/"
        },
        "id": "Z7zZ4GVYlqfj",
        "outputId": "2ced04ef-6549-423e-f111-1a6885df5fff"
      },
      "execution_count": null,
      "outputs": [
        {
          "output_type": "execute_result",
          "data": {
            "text/plain": [
              "array([1.00000000e+01, 1.52641797e+01, 2.32995181e+01, 3.55648031e+01,\n",
              "       5.42867544e+01, 8.28642773e+01, 1.26485522e+02, 1.93069773e+02,\n",
              "       2.94705170e+02, 4.49843267e+02, 6.86648845e+02, 1.04811313e+03,\n",
              "       1.59985872e+03, 2.44205309e+03, 3.72759372e+03, 5.68986603e+03,\n",
              "       8.68511374e+03, 1.32571137e+04, 2.02358965e+04, 3.08884360e+04,\n",
              "       4.71486636e+04, 7.19685673e+04, 1.09854114e+05, 1.67683294e+05,\n",
              "       2.55954792e+05, 3.90693994e+05, 5.96362332e+05, 9.10298178e+05,\n",
              "       1.38949549e+06, 2.12095089e+06, 3.23745754e+06, 4.94171336e+06,\n",
              "       7.54312006e+06, 1.15139540e+07, 1.75751062e+07, 2.68269580e+07,\n",
              "       4.09491506e+07, 6.25055193e+07, 9.54095476e+07, 1.45634848e+08,\n",
              "       2.22299648e+08, 3.39322177e+08, 5.17947468e+08, 7.90604321e+08,\n",
              "       1.20679264e+09, 1.84206997e+09, 2.81176870e+09, 4.29193426e+09,\n",
              "       6.55128557e+09, 1.00000000e+10])"
            ]
          },
          "metadata": {},
          "execution_count": 62
        }
      ]
    },
    {
      "cell_type": "code",
      "source": [
        "np.random.rand(2,2,2)"
      ],
      "metadata": {
        "colab": {
          "base_uri": "https://localhost:8080/"
        },
        "id": "jme9ONUDmexG",
        "outputId": "4712460e-acf5-4f9a-8e4a-2dc595d89b1f"
      },
      "execution_count": null,
      "outputs": [
        {
          "output_type": "execute_result",
          "data": {
            "text/plain": [
              "array([[[0.05601753, 0.1300801 ],\n",
              "        [0.4022769 , 0.77246598]],\n",
              "\n",
              "       [[0.56474757, 0.6578961 ],\n",
              "        [0.90145646, 0.46410365]]])"
            ]
          },
          "metadata": {},
          "execution_count": 63
        }
      ]
    },
    {
      "cell_type": "code",
      "source": [
        "d= np.random.randint(0,10,size = (5,5))\n",
        "d"
      ],
      "metadata": {
        "colab": {
          "base_uri": "https://localhost:8080/"
        },
        "id": "08pyYp0RmvTr",
        "outputId": "0353c81b-d914-4a85-e8de-e3dcad3ed102"
      },
      "execution_count": null,
      "outputs": [
        {
          "output_type": "execute_result",
          "data": {
            "text/plain": [
              "array([[8, 1, 3, 8, 3],\n",
              "       [6, 7, 7, 9, 4],\n",
              "       [9, 2, 4, 8, 2],\n",
              "       [6, 5, 5, 8, 3],\n",
              "       [6, 7, 0, 2, 2]])"
            ]
          },
          "metadata": {},
          "execution_count": 67
        }
      ]
    },
    {
      "cell_type": "code",
      "source": [
        "d[:,:]"
      ],
      "metadata": {
        "colab": {
          "base_uri": "https://localhost:8080/"
        },
        "id": "AfGMWlQPnsMs",
        "outputId": "51093696-cf92-43b8-9bc6-6d3cb3ecfdc2"
      },
      "execution_count": null,
      "outputs": [
        {
          "output_type": "execute_result",
          "data": {
            "text/plain": [
              "array([[8, 1, 3, 8, 3],\n",
              "       [6, 7, 7, 9, 4],\n",
              "       [9, 2, 4, 8, 2],\n",
              "       [6, 5, 5, 8, 3],\n",
              "       [6, 7, 0, 2, 2]])"
            ]
          },
          "metadata": {},
          "execution_count": 69
        }
      ]
    },
    {
      "cell_type": "code",
      "source": [
        "#to d0\n",
        "# output = array[[8,2]\n",
        "    # 8,3]\n",
        "\n",
        "d[2:4,3:5]"
      ],
      "metadata": {
        "colab": {
          "base_uri": "https://localhost:8080/"
        },
        "id": "YJTzsGWGoLcF",
        "outputId": "73ebec42-8f87-43c2-efa5-9d4661439f21"
      },
      "execution_count": null,
      "outputs": [
        {
          "output_type": "execute_result",
          "data": {
            "text/plain": [
              "array([[8, 2],\n",
              "       [8, 3]])"
            ]
          },
          "metadata": {},
          "execution_count": 146
        }
      ]
    },
    {
      "cell_type": "code",
      "source": [
        "d[2:5:,1:3]"
      ],
      "metadata": {
        "colab": {
          "base_uri": "https://localhost:8080/"
        },
        "id": "6litY5BMn88r",
        "outputId": "8d7a9617-bb2d-43db-9093-254b955f8828"
      },
      "execution_count": null,
      "outputs": [
        {
          "output_type": "execute_result",
          "data": {
            "text/plain": [
              "array([[2, 4],\n",
              "       [5, 5],\n",
              "       [7, 0]])"
            ]
          },
          "metadata": {},
          "execution_count": 148
        }
      ]
    },
    {
      "cell_type": "code",
      "source": [
        "a = np.random.randint(0,10,size = (5,5))"
      ],
      "metadata": {
        "id": "RFsTq2R1o_9I"
      },
      "execution_count": null,
      "outputs": []
    },
    {
      "cell_type": "code",
      "source": [
        "b=np.random.randint(0,10,size = (5,5))"
      ],
      "metadata": {
        "id": "VAZYH4f8pEeh"
      },
      "execution_count": null,
      "outputs": []
    },
    {
      "cell_type": "code",
      "source": [
        "\n",
        "# Concatenation\n",
        "\n",
        "np.vstack([a,b])"
      ],
      "metadata": {
        "colab": {
          "base_uri": "https://localhost:8080/"
        },
        "id": "fWDICFnUoHAi",
        "outputId": "76f52f16-e8e7-4bda-b056-fb39b80755bf"
      },
      "execution_count": null,
      "outputs": [
        {
          "output_type": "execute_result",
          "data": {
            "text/plain": [
              "array([[1, 0, 1, 4, 4],\n",
              "       [6, 2, 1, 4, 8],\n",
              "       [2, 4, 6, 7, 7],\n",
              "       [6, 6, 7, 9, 5],\n",
              "       [1, 6, 1, 3, 5],\n",
              "       [0, 5, 1, 4, 9],\n",
              "       [0, 5, 1, 1, 4],\n",
              "       [0, 0, 2, 0, 4],\n",
              "       [0, 3, 5, 3, 6],\n",
              "       [0, 4, 3, 4, 2]])"
            ]
          },
          "metadata": {},
          "execution_count": 76
        }
      ]
    },
    {
      "cell_type": "code",
      "source": [
        "np.hstack([a,b])"
      ],
      "metadata": {
        "colab": {
          "base_uri": "https://localhost:8080/"
        },
        "id": "VBLsFieJoJ3_",
        "outputId": "82aa9677-012a-4ae7-c65a-a71a193e22d2"
      },
      "execution_count": null,
      "outputs": [
        {
          "output_type": "execute_result",
          "data": {
            "text/plain": [
              "array([[1, 0, 1, 4, 4, 0, 5, 1, 4, 9],\n",
              "       [6, 2, 1, 4, 8, 0, 5, 1, 1, 4],\n",
              "       [2, 4, 6, 7, 7, 0, 0, 2, 0, 4],\n",
              "       [6, 6, 7, 9, 5, 0, 3, 5, 3, 6],\n",
              "       [1, 6, 1, 3, 5, 0, 4, 3, 4, 2]])"
            ]
          },
          "metadata": {},
          "execution_count": 78
        }
      ]
    },
    {
      "cell_type": "code",
      "source": [
        "#Splitting\n",
        "\n",
        "d"
      ],
      "metadata": {
        "colab": {
          "base_uri": "https://localhost:8080/"
        },
        "id": "bP6NLhoBpSTv",
        "outputId": "1b177546-52f1-45fc-9312-2a0c80dcc023"
      },
      "execution_count": null,
      "outputs": [
        {
          "output_type": "execute_result",
          "data": {
            "text/plain": [
              "array([[8, 1, 3, 8, 3],\n",
              "       [6, 7, 7, 9, 4],\n",
              "       [9, 2, 4, 8, 2],\n",
              "       [6, 5, 5, 8, 3],\n",
              "       [6, 7, 0, 2, 2]])"
            ]
          },
          "metadata": {},
          "execution_count": 80
        }
      ]
    },
    {
      "cell_type": "code",
      "source": [
        "d1 , d2 =np.vsplit(d,[3])\n",
        "d1"
      ],
      "metadata": {
        "colab": {
          "base_uri": "https://localhost:8080/"
        },
        "id": "ryC6meXHpm7f",
        "outputId": "77df00e8-2e6f-4f9c-a30d-19572321686f"
      },
      "execution_count": null,
      "outputs": [
        {
          "output_type": "execute_result",
          "data": {
            "text/plain": [
              "array([[8, 1, 3, 8, 3],\n",
              "       [6, 7, 7, 9, 4],\n",
              "       [9, 2, 4, 8, 2]])"
            ]
          },
          "metadata": {},
          "execution_count": 83
        }
      ]
    },
    {
      "cell_type": "code",
      "source": [
        "d2"
      ],
      "metadata": {
        "colab": {
          "base_uri": "https://localhost:8080/"
        },
        "id": "D2Sv1G0Ap7M8",
        "outputId": "743bb0c8-11f0-4666-bb7f-05acb042be23"
      },
      "execution_count": null,
      "outputs": [
        {
          "output_type": "execute_result",
          "data": {
            "text/plain": [
              "array([[6, 5, 5, 8, 3],\n",
              "       [6, 7, 0, 2, 2]])"
            ]
          },
          "metadata": {},
          "execution_count": 85
        }
      ]
    },
    {
      "cell_type": "code",
      "source": [
        "d.ndim"
      ],
      "metadata": {
        "colab": {
          "base_uri": "https://localhost:8080/"
        },
        "id": "akejAkZ3p9ej",
        "outputId": "eb143780-a5a9-4556-d9fa-960a88498979"
      },
      "execution_count": null,
      "outputs": [
        {
          "output_type": "execute_result",
          "data": {
            "text/plain": [
              "2"
            ]
          },
          "metadata": {},
          "execution_count": 87
        }
      ]
    },
    {
      "cell_type": "code",
      "source": [
        "d.shape"
      ],
      "metadata": {
        "colab": {
          "base_uri": "https://localhost:8080/"
        },
        "id": "X1bkR94lqVy9",
        "outputId": "d99f2bf9-4c37-4a8f-8a03-83a31e707104"
      },
      "execution_count": null,
      "outputs": [
        {
          "output_type": "execute_result",
          "data": {
            "text/plain": [
              "(5, 5)"
            ]
          },
          "metadata": {},
          "execution_count": 88
        }
      ]
    },
    {
      "cell_type": "code",
      "source": [
        "d.size"
      ],
      "metadata": {
        "colab": {
          "base_uri": "https://localhost:8080/"
        },
        "id": "vhdusc37qXqQ",
        "outputId": "639d96c0-c09e-4060-f977-0623abb5a201"
      },
      "execution_count": null,
      "outputs": [
        {
          "output_type": "execute_result",
          "data": {
            "text/plain": [
              "25"
            ]
          },
          "metadata": {},
          "execution_count": 90
        }
      ]
    },
    {
      "cell_type": "code",
      "source": [
        "d.reshape(25,1)"
      ],
      "metadata": {
        "colab": {
          "base_uri": "https://localhost:8080/"
        },
        "id": "3k8PTGskq6Hc",
        "outputId": "4f09806f-8f1e-464a-89cd-ed99ae2bd94f"
      },
      "execution_count": null,
      "outputs": [
        {
          "output_type": "execute_result",
          "data": {
            "text/plain": [
              "array([[8],\n",
              "       [1],\n",
              "       [3],\n",
              "       [8],\n",
              "       [3],\n",
              "       [6],\n",
              "       [7],\n",
              "       [7],\n",
              "       [9],\n",
              "       [4],\n",
              "       [9],\n",
              "       [2],\n",
              "       [4],\n",
              "       [8],\n",
              "       [2],\n",
              "       [6],\n",
              "       [5],\n",
              "       [5],\n",
              "       [8],\n",
              "       [3],\n",
              "       [6],\n",
              "       [7],\n",
              "       [0],\n",
              "       [2],\n",
              "       [2]])"
            ]
          },
          "metadata": {},
          "execution_count": 92
        }
      ]
    },
    {
      "cell_type": "code",
      "source": [
        "d.reshape(1,25)"
      ],
      "metadata": {
        "colab": {
          "base_uri": "https://localhost:8080/"
        },
        "id": "IUrW4vhUrJMg",
        "outputId": "8802b7e6-e479-4d35-b03a-5fa7e4360d0f"
      },
      "execution_count": null,
      "outputs": [
        {
          "output_type": "execute_result",
          "data": {
            "text/plain": [
              "array([[8, 1, 3, 8, 3, 6, 7, 7, 9, 4, 9, 2, 4, 8, 2, 6, 5, 5, 8, 3, 6, 7,\n",
              "        0, 2, 2]])"
            ]
          },
          "metadata": {},
          "execution_count": 96
        }
      ]
    },
    {
      "cell_type": "code",
      "source": [
        "a = np.array([(1,2,3),(4,5,6)])"
      ],
      "metadata": {
        "id": "1QwIPnAXrspo"
      },
      "execution_count": null,
      "outputs": []
    },
    {
      "cell_type": "code",
      "source": [
        "a"
      ],
      "metadata": {
        "colab": {
          "base_uri": "https://localhost:8080/"
        },
        "id": "echEpXzrsHuI",
        "outputId": "7599403e-cfd8-4919-8aa8-4eb4a4c4e91d"
      },
      "execution_count": null,
      "outputs": [
        {
          "output_type": "execute_result",
          "data": {
            "text/plain": [
              "array([[1, 2, 3],\n",
              "       [4, 5, 6]])"
            ]
          },
          "metadata": {},
          "execution_count": 99
        }
      ]
    },
    {
      "cell_type": "code",
      "source": [
        "import time\n",
        "import sys"
      ],
      "metadata": {
        "id": "OOUiswMAsNkg"
      },
      "execution_count": null,
      "outputs": []
    },
    {
      "cell_type": "code",
      "source": [
        "s = range(1000)\n",
        "print(sys.getsizeof(5)*len(s))"
      ],
      "metadata": {
        "colab": {
          "base_uri": "https://localhost:8080/"
        },
        "id": "JZUyi4lCsZoo",
        "outputId": "ddb6671f-87a3-47a3-a507-e14faef78fe8"
      },
      "execution_count": null,
      "outputs": [
        {
          "output_type": "stream",
          "name": "stdout",
          "text": [
            "28000\n"
          ]
        }
      ]
    },
    {
      "cell_type": "code",
      "source": [
        "D = np.arange(1000)\n"
      ],
      "metadata": {
        "id": "Bscd2Batso4L"
      },
      "execution_count": null,
      "outputs": []
    },
    {
      "cell_type": "code",
      "source": [
        "print(D.size*D.itemsize)"
      ],
      "metadata": {
        "colab": {
          "base_uri": "https://localhost:8080/"
        },
        "id": "lkDN-B0ys7aq",
        "outputId": "f974350d-2e1d-443c-fed2-15c4a33437bb"
      },
      "execution_count": null,
      "outputs": [
        {
          "output_type": "stream",
          "name": "stdout",
          "text": [
            "8000\n"
          ]
        }
      ]
    },
    {
      "cell_type": "code",
      "source": [
        "a.sum(axis = 1)"
      ],
      "metadata": {
        "colab": {
          "base_uri": "https://localhost:8080/"
        },
        "id": "PBBsiqM7tCwA",
        "outputId": "afbe9620-3924-4b1d-ab7f-e86312b15bad"
      },
      "execution_count": null,
      "outputs": [
        {
          "output_type": "execute_result",
          "data": {
            "text/plain": [
              "array([ 6, 15])"
            ]
          },
          "metadata": {},
          "execution_count": 114
        }
      ]
    },
    {
      "cell_type": "code",
      "source": [
        "np.sqrt(a)"
      ],
      "metadata": {
        "colab": {
          "base_uri": "https://localhost:8080/"
        },
        "id": "y-kALKI_td8u",
        "outputId": "85e48668-112d-44cc-f47a-696f51a00189"
      },
      "execution_count": null,
      "outputs": [
        {
          "output_type": "execute_result",
          "data": {
            "text/plain": [
              "array([[1.        , 1.41421356, 1.73205081],\n",
              "       [2.        , 2.23606798, 2.44948974]])"
            ]
          },
          "metadata": {},
          "execution_count": 116
        }
      ]
    },
    {
      "cell_type": "code",
      "source": [
        "np.std(a)"
      ],
      "metadata": {
        "colab": {
          "base_uri": "https://localhost:8080/"
        },
        "id": "5A8QMmSvtg_G",
        "outputId": "9320bc88-132f-432d-abb7-715798a963f4"
      },
      "execution_count": null,
      "outputs": [
        {
          "output_type": "execute_result",
          "data": {
            "text/plain": [
              "1.707825127659933"
            ]
          },
          "metadata": {},
          "execution_count": 118
        }
      ]
    },
    {
      "cell_type": "code",
      "source": [
        "np.mean(a)"
      ],
      "metadata": {
        "colab": {
          "base_uri": "https://localhost:8080/"
        },
        "id": "vHRJXZDPtjVX",
        "outputId": "0892296d-ef17-433a-d238-baa134310516"
      },
      "execution_count": null,
      "outputs": [
        {
          "output_type": "execute_result",
          "data": {
            "text/plain": [
              "3.5"
            ]
          },
          "metadata": {},
          "execution_count": 120
        }
      ]
    },
    {
      "cell_type": "code",
      "source": [
        "b = np.array([(7,8,9),(1,2,3)])"
      ],
      "metadata": {
        "id": "R63smi2vtnCB"
      },
      "execution_count": null,
      "outputs": []
    },
    {
      "cell_type": "code",
      "source": [
        "a\n"
      ],
      "metadata": {
        "colab": {
          "base_uri": "https://localhost:8080/"
        },
        "id": "bk0wHhjNtz_J",
        "outputId": "01683cfa-8820-492c-8af4-394e6204c31d"
      },
      "execution_count": null,
      "outputs": [
        {
          "output_type": "execute_result",
          "data": {
            "text/plain": [
              "array([[1, 2, 3],\n",
              "       [4, 5, 6]])"
            ]
          },
          "metadata": {},
          "execution_count": 124
        }
      ]
    },
    {
      "cell_type": "code",
      "source": [
        "b"
      ],
      "metadata": {
        "colab": {
          "base_uri": "https://localhost:8080/"
        },
        "id": "IMzwe8rqt3T2",
        "outputId": "db2dc1bb-0208-4f8f-e803-5c0e8aeaa32b"
      },
      "execution_count": null,
      "outputs": [
        {
          "output_type": "execute_result",
          "data": {
            "text/plain": [
              "array([[7, 8, 9],\n",
              "       [1, 2, 3]])"
            ]
          },
          "metadata": {},
          "execution_count": 126
        }
      ]
    },
    {
      "cell_type": "code",
      "source": [
        "print(a+b)"
      ],
      "metadata": {
        "colab": {
          "base_uri": "https://localhost:8080/"
        },
        "id": "1HA1r1mGt4op",
        "outputId": "8f1851ad-3ee8-4796-9b05-a392210bb623"
      },
      "execution_count": null,
      "outputs": [
        {
          "output_type": "stream",
          "name": "stdout",
          "text": [
            "[[ 8 10 12]\n",
            " [ 5  7  9]]\n"
          ]
        }
      ]
    },
    {
      "cell_type": "code",
      "source": [
        "a.ravel()"
      ],
      "metadata": {
        "colab": {
          "base_uri": "https://localhost:8080/"
        },
        "id": "iFvoIe5YuAC7",
        "outputId": "d94dbc9b-302e-4d9a-aaad-bb0adf7d7802"
      },
      "execution_count": null,
      "outputs": [
        {
          "output_type": "execute_result",
          "data": {
            "text/plain": [
              "array([1, 2, 3, 4, 5, 6])"
            ]
          },
          "metadata": {},
          "execution_count": 130
        }
      ]
    },
    {
      "cell_type": "code",
      "source": [
        "#to do  Task\n",
        "df.mean()"
      ],
      "metadata": {
        "colab": {
          "base_uri": "https://localhost:8080/"
        },
        "id": "y_W9NHwMuDkB",
        "outputId": "1293450c-3eca-4cc9-8172-2eafa2364341"
      },
      "execution_count": null,
      "outputs": [
        {
          "output_type": "stream",
          "name": "stderr",
          "text": [
            "/usr/local/lib/python3.7/dist-packages/ipykernel_launcher.py:2: FutureWarning: Dropping of nuisance columns in DataFrame reductions (with 'numeric_only=None') is deprecated; in a future version this will raise TypeError.  Select only valid columns before calling the reduction.\n",
            "  \n"
          ]
        },
        {
          "output_type": "execute_result",
          "data": {
            "text/plain": [
              "Unnamed: 0    399.500000\n",
              "#             362.813750\n",
              "HP             69.258750\n",
              "Attack         79.001250\n",
              "Defense        73.842500\n",
              "Sp. Atk        72.820000\n",
              "Sp. Def        71.902500\n",
              "Speed          68.277500\n",
              "Generation      3.323750\n",
              "Legendary       0.081250\n",
              "Avg_speed      74.139987\n",
              "count           1.000000\n",
              "dtype: float64"
            ]
          },
          "metadata": {},
          "execution_count": 5
        }
      ]
    },
    {
      "cell_type": "code",
      "source": [
        "import numpy as np\n",
        "import matplotlib.pyplot as plt"
      ],
      "metadata": {
        "id": "sC_n1r7elhyG"
      },
      "execution_count": null,
      "outputs": []
    },
    {
      "cell_type": "code",
      "source": [
        "x = np.arange(0,3*np.pi,0.1)\n",
        "y = np.sin(x)"
      ],
      "metadata": {
        "id": "PvjQrCo5sik1"
      },
      "execution_count": null,
      "outputs": []
    },
    {
      "cell_type": "code",
      "source": [
        "plt.plot(x,y)"
      ],
      "metadata": {
        "colab": {
          "base_uri": "https://localhost:8080/",
          "height": 282
        },
        "id": "zHHUAt7FsxEe",
        "outputId": "2c5925ec-72c0-4095-ae71-007054ebd3f9"
      },
      "execution_count": null,
      "outputs": [
        {
          "output_type": "execute_result",
          "data": {
            "text/plain": [
              "[<matplotlib.lines.Line2D at 0x7f4db36f2f10>]"
            ]
          },
          "metadata": {},
          "execution_count": 19
        },
        {
          "output_type": "display_data",
          "data": {
            "text/plain": [
              "<Figure size 432x288 with 1 Axes>"
            ],
            "image/png": "[encoded data removed]"
          },
          "metadata": {
            "needs_background": "light"
          }
        }
      ]
    },
    {
      "cell_type": "code",
      "source": [
        "ar = np.array([1,2,3])\n",
        "np.exp(ar)"
      ],
      "metadata": {
        "colab": {
          "base_uri": "https://localhost:8080/"
        },
        "id": "KF88TkTZs2zu",
        "outputId": "5827b87b-dfd4-467b-f95a-d46562ba4e79"
      },
      "execution_count": null,
      "outputs": [
        {
          "output_type": "execute_result",
          "data": {
            "text/plain": [
              "array([ 2.71828183,  7.3890561 , 20.08553692])"
            ]
          },
          "metadata": {},
          "execution_count": 22
        }
      ]
    },
    {
      "cell_type": "code",
      "source": [
        "np.log(ar)"
      ],
      "metadata": {
        "colab": {
          "base_uri": "https://localhost:8080/"
        },
        "id": "S5EVed9StHua",
        "outputId": "d6ebbf7e-1899-4e3b-8a37-cd456b4aefce"
      },
      "execution_count": null,
      "outputs": [
        {
          "output_type": "execute_result",
          "data": {
            "text/plain": [
              "array([0.        , 0.69314718, 1.09861229])"
            ]
          },
          "metadata": {},
          "execution_count": 24
        }
      ]
    },
    {
      "cell_type": "code",
      "source": [
        "np.log10(ar)"
      ],
      "metadata": {
        "colab": {
          "base_uri": "https://localhost:8080/"
        },
        "id": "p6RtBNR3tKet",
        "outputId": "e1b8adb0-0a00-4e04-90a8-8dbd7362a224"
      },
      "execution_count": null,
      "outputs": [
        {
          "output_type": "execute_result",
          "data": {
            "text/plain": [
              "array([0.        , 0.30103   , 0.47712125])"
            ]
          },
          "metadata": {},
          "execution_count": 26
        }
      ]
    },
    {
      "cell_type": "code",
      "source": [
        "!pip install matplotlib"
      ],
      "metadata": {
        "colab": {
          "base_uri": "https://localhost:8080/"
        },
        "id": "vrAcj45TtNqO",
        "outputId": "31ea7970-a42c-4db8-d633-22845ba6ed68"
      },
      "execution_count": null,
      "outputs": [
        {
          "output_type": "stream",
          "name": "stdout",
          "text": [
            "Requirement already satisfied: matplotlib in /usr/local/lib/python3.7/dist-packages (3.2.2)\n",
            "Requirement already satisfied: cycler>=0.10 in /usr/local/lib/python3.7/dist-packages (from matplotlib) (0.11.0)\n",
            "Requirement already satisfied: numpy>=1.11 in /usr/local/lib/python3.7/dist-packages (from matplotlib) (1.21.5)\n",
            "Requirement already satisfied: kiwisolver>=1.0.1 in /usr/local/lib/python3.7/dist-packages (from matplotlib) (1.3.2)\n",
            "Requirement already satisfied: pyparsing!=2.0.4,!=2.1.2,!=2.1.6,>=2.0.1 in /usr/local/lib/python3.7/dist-packages (from matplotlib) (3.0.7)\n",
            "Requirement already satisfied: python-dateutil>=2.1 in /usr/local/lib/python3.7/dist-packages (from matplotlib) (2.8.2)\n",
            "Requirement already satisfied: six>=1.5 in /usr/local/lib/python3.7/dist-packages (from python-dateutil>=2.1->matplotlib) (1.15.0)\n"
          ]
        }
      ]
    },
    {
      "cell_type": "code",
      "source": [
        "import matplotlib.pyplot as plt"
      ],
      "metadata": {
        "id": "mprmDrR1tlZw"
      },
      "execution_count": null,
      "outputs": []
    },
    {
      "cell_type": "code",
      "source": [
        "x=[2017,2018,2019,2020,2021]\n",
        "y=[35,78,32,67,42]\n",
        "plt.plot(x,y)"
      ],
      "metadata": {
        "colab": {
          "base_uri": "https://localhost:8080/",
          "height": 286
        },
        "id": "cuy6P85utzu-",
        "outputId": "91fdf63c-add8-4389-c5e9-cfc7a88ebb8b"
      },
      "execution_count": null,
      "outputs": [
        {
          "output_type": "execute_result",
          "data": {
            "text/plain": [
              "[<matplotlib.lines.Line2D at 0x7f4db11c7cd0>]"
            ]
          },
          "metadata": {},
          "execution_count": 33
        },
        {
          "output_type": "display_data",
          "data": {
            "text/plain": [
              "<Figure size 432x288 with 1 Axes>"
            ],
            "image/png": "[encoded data removed]"
          },
          "metadata": {
            "needs_background": "light"
          }
        }
      ]
    },
    {
      "cell_type": "code",
      "source": [
        "years = [1950,1955,1960,1965,1970,1975,1980,1985,1990,1995,2000,2005,2010,2015]\n",
        "pops = [1.2,3.4,2.3,3.2,3.5,2.1,2.1,2.4,1.0,1.3,1.5,1.7,2.3,4.5]\n",
        "plt.plot(years,pops,color = 'red')\n",
        "plt.ylabel('population in billions')\n",
        "plt.xlabel('population growth by year')\n",
        "plt.title('population ')\n",
        "plt.savefig('a.png')"
      ],
      "metadata": {
        "colab": {
          "base_uri": "https://localhost:8080/",
          "height": 295
        },
        "id": "fIZ-rk3uxQcJ",
        "outputId": "6656a878-6285-443d-8906-630fbee53f1a"
      },
      "execution_count": null,
      "outputs": [
        {
          "output_type": "display_data",
          "data": {
            "text/plain": [
              "<Figure size 432x288 with 1 Axes>"
            ],
            "image/png": "[encoded data removed]"
          },
          "metadata": {
            "needs_background": "light"
          }
        }
      ]
    },
    {
      "cell_type": "code",
      "source": [
        "x =[1,6,3]\n",
        "y = [5,9,4]\n",
        "\n",
        "x2 = [1,2,3]\n",
        "y2 = [10,14,12]\n",
        "\n",
        "plt.plot(x,y,label='first line')\n",
        "plt.plot(x2,y2,label = 'second line')\n",
        "plt.xlabel('plot number')\n",
        "plt.ylabel('important var')\n",
        "plt.title('intresting graph')\n",
        "plt.legend()"
      ],
      "metadata": {
        "colab": {
          "base_uri": "https://localhost:8080/",
          "height": 312
        },
        "id": "rzcPeAYKxGQ9",
        "outputId": "a0c3f1c0-9a46-4937-9800-d2d6a654b9b8"
      },
      "execution_count": null,
      "outputs": [
        {
          "output_type": "execute_result",
          "data": {
            "text/plain": [
              "<matplotlib.legend.Legend at 0x7f4db19321d0>"
            ]
          },
          "metadata": {},
          "execution_count": 36
        },
        {
          "output_type": "display_data",
          "data": {
            "text/plain": [
              "<Figure size 432x288 with 1 Axes>"
            ],
            "image/png": "[encoded data removed]"
          },
          "metadata": {
            "needs_background": "light"
          }
        }
      ]
    },
    {
      "cell_type": "code",
      "source": [
        "years = [1950,1955,1960,1965,1970,1975,1980,1985,1990,1995,2000,2005,2010,2015]\n",
        "pops = [1.2,3.4,2.3,3.2,3.5,2.1,2.1,2.4,1.0,1.3,1.5,1.7,2.3,4.5]\n",
        "death =[1.2,1.3,1.4,1.5,1.6,1.7,1.8,1.9,2.1,2.2,2.5,2.7,2.9,2.4]\n",
        "plt.plot(years,pops,'*',color = 'orange',label = 'birth by year')\n",
        "plt.plot(years,death,color='blue',label = 'death by year')\n",
        "plt.xlabel('population in billions')\n",
        "plt.ylabel('')\n",
        "\n"
      ],
      "metadata": {
        "colab": {
          "base_uri": "https://localhost:8080/",
          "height": 130
        },
        "id": "8f3oZvRHzuxA",
        "outputId": "3270519a-990c-4e50-e5aa-50e0df765c60"
      },
      "execution_count": null,
      "outputs": [
        {
          "output_type": "error",
          "ename": "SyntaxError",
          "evalue": "ignored",
          "traceback": [
            "\u001b[0;36m  File \u001b[0;32m\"<ipython-input-37-274093e9626a>\"\u001b[0;36m, line \u001b[0;32m3\u001b[0m\n\u001b[0;31m    death =\u001b[0m\n\u001b[0m           ^\u001b[0m\n\u001b[0;31mSyntaxError\u001b[0m\u001b[0;31m:\u001b[0m invalid syntax\n"
          ]
        }
      ]
    },
    {
      "cell_type": "code",
      "source": [
        "years = [1950,1955,1960,1965,1970,1975,1980,1985,1990,1995,2000,2005,2010,2015]\n",
        "pops = [1.2,3.4,2.3,3.2,3.5,2.1,2.1,2.4,1.0,1.3,1.5,1.7,2.3,4.5]\n",
        "death =[1.2,1.3,1.4,1.5,1.6,1.7,1.8,1.9,2.1,2.2,2.5,2.7,2.9,2.4]\n",
        "lines = plt.plot(years,pops,years,death)\n",
        "plt.grid()\n",
        "plt.setp(lines,color='green',marker = '*')"
      ],
      "metadata": {
        "colab": {
          "base_uri": "https://localhost:8080/",
          "height": 282
        },
        "id": "MZFuczOf0bZS",
        "outputId": "555ed070-1b8a-4d21-cc92-db5cc2a6794d"
      },
      "execution_count": null,
      "outputs": [
        {
          "output_type": "execute_result",
          "data": {
            "text/plain": [
              "[None, None, None, None]"
            ]
          },
          "metadata": {},
          "execution_count": 40
        },
        {
          "output_type": "display_data",
          "data": {
            "text/plain": [
              "<Figure size 432x288 with 1 Axes>"
            ],
            "image/png": "[encoded data removed]"
          },
          "metadata": {
            "needs_background": "light"
          }
        }
      ]
    },
    {
      "cell_type": "code",
      "source": [
        "labels = ['python','c','c#','php','java','ruby']\n",
        "sizes = [33,52,12,17,42,28]\n",
        "plt.pie(sizes,labels = labels, autopct ='%1.1f%%')"
      ],
      "metadata": {
        "colab": {
          "base_uri": "https://localhost:8080/",
          "height": 560
        },
        "id": "g5l710al1H6c",
        "outputId": "9a43ac81-9179-40fa-d4d5-dd837cb14214"
      },
      "execution_count": null,
      "outputs": [
        {
          "output_type": "execute_result",
          "data": {
            "text/plain": [
              "([<matplotlib.patches.Wedge at 0x7f4db0dc1890>,\n",
              "  <matplotlib.patches.Wedge at 0x7f4db0dc1f50>,\n",
              "  <matplotlib.patches.Wedge at 0x7f4db0dcd810>,\n",
              "  <matplotlib.patches.Wedge at 0x7f4db0dd6150>,\n",
              "  <matplotlib.patches.Wedge at 0x7f4db0dd6c90>,\n",
              "  <matplotlib.patches.Wedge at 0x7f4db0de4610>],\n",
              " [Text(0.9299663845327675, 0.5875053392430174, 'python'),\n",
              "  Text(-0.4724317752017222, 0.9933822113264107, 'c'),\n",
              "  Text(-1.099358723150458, 0.03755526371887889, 'c#'),\n",
              "  Text(-0.9851715860327909, -0.48932294660442344, 'php'),\n",
              "  Text(-0.11249058833502822, -1.094233004225352, 'java'),\n",
              "  Text(0.9766737268520933, -0.506071567346796, 'ruby')],\n",
              " [Text(0.5072543915633276, 0.32045745776891854, '17.9%'),\n",
              "  Text(-0.25769005920093935, 0.5418448425416785, '28.3%'),\n",
              "  Text(-0.5996502126275225, 0.020484689301206664, '6.5%'),\n",
              "  Text(-0.5373663196542495, -0.2669034254205946, '9.2%'),\n",
              "  Text(-0.0613585027281972, -0.5968543659411011, '22.8%'),\n",
              "  Text(0.5327311237375054, -0.276039036734616, '15.2%')])"
            ]
          },
          "metadata": {},
          "execution_count": 43
        },
        {
          "output_type": "display_data",
          "data": {
            "text/plain": [
              "<Figure size 432x288 with 1 Axes>"
            ],
            "image/png": "[encoded data removed]"
          },
          "metadata": {}
        }
      ]
    },
    {
      "cell_type": "code",
      "source": [
        "raw_data = {'names':['nick','sani','john','rubi','maya'],\n",
        "            'jan_ir':[123,124,125,126,128],\n",
        "            'feb_ir':[23,24,25,27,29],\n",
        "            'march_ir':[3,5,7,6,9]}\n",
        "df = pd.DataFrame(raw_data,columns = ['names','jan_ir','feb_ir','march_ir'])"
      ],
      "metadata": {
        "id": "h2smkYxv2IoU"
      },
      "execution_count": null,
      "outputs": []
    },
    {
      "cell_type": "code",
      "source": [
        "df\n",
        "#to do\n",
        "# make a new colums name total_ir which is a sum of jan,feb, march\n",
        "#plot a pie chart using total_ir column and label as names column"
      ],
      "metadata": {
        "colab": {
          "base_uri": "https://localhost:8080/",
          "height": 206
        },
        "id": "iABhmlGb32GV",
        "outputId": "dde616cd-d6de-4721-d68a-30157eded64f"
      },
      "execution_count": null,
      "outputs": [
        {
          "output_type": "execute_result",
          "data": {
            "text/plain": [
              "  names  jan_ir  feb_ir  march_ir\n",
              "0  nick     123      23         3\n",
              "1  sani     124      24         5\n",
              "2  john     125      25         7\n",
              "3  rubi     126      27         6\n",
              "4  maya     128      29         9"
            ],
            "text/html": [
              "\n",
              "  <div id=\"df-62b63e24-abfd-44b6-9841-91d33cf104fd\">\n",
              "    <div class=\"colab-df-container\">\n",
              "      <div>\n",
              "<style scoped>\n",
              "    .dataframe tbody tr th:only-of-type {\n",
              "        vertical-align: middle;\n",
              "    }\n",
              "\n",
              "    .dataframe tbody tr th {\n",
              "        vertical-align: top;\n",
              "    }\n",
              "\n",
              "    .dataframe thead th {\n",
              "        text-align: right;\n",
              "    }\n",
              "</style>\n",
              "<table border=\"1\" class=\"dataframe\">\n",
              "  <thead>\n",
              "    <tr style=\"text-align: right;\">\n",
              "      <th></th>\n",
              "      <th>names</th>\n",
              "      <th>jan_ir</th>\n",
              "      <th>feb_ir</th>\n",
              "      <th>march_ir</th>\n",
              "    </tr>\n",
              "  </thead>\n",
              "  <tbody>\n",
              "    <tr>\n",
              "      <th>0</th>\n",
              "      <td>nick</td>\n",
              "      <td>123</td>\n",
              "      <td>23</td>\n",
              "      <td>3</td>\n",
              "    </tr>\n",
              "    <tr>\n",
              "      <th>1</th>\n",
              "      <td>sani</td>\n",
              "      <td>124</td>\n",
              "      <td>24</td>\n",
              "      <td>5</td>\n",
              "    </tr>\n",
              "    <tr>\n",
              "      <th>2</th>\n",
              "      <td>john</td>\n",
              "      <td>125</td>\n",
              "      <td>25</td>\n",
              "      <td>7</td>\n",
              "    </tr>\n",
              "    <tr>\n",
              "      <th>3</th>\n",
              "      <td>rubi</td>\n",
              "      <td>126</td>\n",
              "      <td>27</td>\n",
              "      <td>6</td>\n",
              "    </tr>\n",
              "    <tr>\n",
              "      <th>4</th>\n",
              "      <td>maya</td>\n",
              "      <td>128</td>\n",
              "      <td>29</td>\n",
              "      <td>9</td>\n",
              "    </tr>\n",
              "  </tbody>\n",
              "</table>\n",
              "</div>\n",
              "      <button class=\"colab-df-convert\" onclick=\"convertToInteractive('df-62b63e24-abfd-44b6-9841-91d33cf104fd')\"\n",
              "              title=\"Convert this dataframe to an interactive table.\"\n",
              "              style=\"display:none;\">\n",
              "        \n",
              "  <svg xmlns=\"http://www.w3.org/2000/svg\" height=\"24px\"viewBox=\"0 0 24 24\"\n",
              "       width=\"24px\">\n",
              "    <path d=\"M0 0h24v24H0V0z\" fill=\"none\"/>\n",
              "    <path d=\"M18.56 5.44l.94 2.06.94-2.06 2.06-.94-2.06-.94-.94-2.06-.94 2.06-2.06.94zm-11 1L8.5 8.5l.94-2.06 2.06-.94-2.06-.94L8.5 2.5l-.94 2.06-2.06.94zm10 10l.94 2.06.94-2.06 2.06-.94-2.06-.94-.94-2.06-.94 2.06-2.06.94z\"/><path d=\"M17.41 7.96l-1.37-1.37c-.4-.4-.92-.59-1.43-.59-.52 0-1.04.2-1.43.59L10.3 9.45l-7.72 7.72c-.78.78-.78 2.05 0 2.83L4 21.41c.39.39.9.59 1.41.59.51 0 1.02-.2 1.41-.59l7.78-7.78 2.81-2.81c.8-.78.8-2.07 0-2.86zM5.41 20L4 18.59l7.72-7.72 1.47 1.35L5.41 20z\"/>\n",
              "  </svg>\n",
              "      </button>\n",
              "      \n",
              "  <style>\n",
              "    .colab-df-container {\n",
              "      display:flex;\n",
              "      flex-wrap:wrap;\n",
              "      gap: 12px;\n",
              "    }\n",
              "\n",
              "    .colab-df-convert {\n",
              "      background-color: #E8F0FE;\n",
              "      border: none;\n",
              "      border-radius: 50%;\n",
              "      cursor: pointer;\n",
              "      display: none;\n",
              "      fill: #1967D2;\n",
              "      height: 32px;\n",
              "      padding: 0 0 0 0;\n",
              "      width: 32px;\n",
              "    }\n",
              "\n",
              "    .colab-df-convert:hover {\n",
              "      background-color: #E2EBFA;\n",
              "      box-shadow: 0px 1px 2px rgba(60, 64, 67, 0.3), 0px 1px 3px 1px rgba(60, 64, 67, 0.15);\n",
              "      fill: #174EA6;\n",
              "    }\n",
              "\n",
              "    [theme=dark] .colab-df-convert {\n",
              "      background-color: #3B4455;\n",
              "      fill: #D2E3FC;\n",
              "    }\n",
              "\n",
              "    [theme=dark] .colab-df-convert:hover {\n",
              "      background-color: #434B5C;\n",
              "      box-shadow: 0px 1px 3px 1px rgba(0, 0, 0, 0.15);\n",
              "      filter: drop-shadow(0px 1px 2px rgba(0, 0, 0, 0.3));\n",
              "      fill: #FFFFFF;\n",
              "    }\n",
              "  </style>\n",
              "\n",
              "      <script>\n",
              "        const buttonEl =\n",
              "          document.querySelector('#df-62b63e24-abfd-44b6-9841-91d33cf104fd button.colab-df-convert');\n",
              "        buttonEl.style.display =\n",
              "          google.colab.kernel.accessAllowed ? 'block' : 'none';\n",
              "\n",
              "        async function convertToInteractive(key) {\n",
              "          const element = document.querySelector('#df-62b63e24-abfd-44b6-9841-91d33cf104fd');\n",
              "          const dataTable =\n",
              "            await google.colab.kernel.invokeFunction('convertToInteractive',\n",
              "                                                     [key], {});\n",
              "          if (!dataTable) return;\n",
              "\n",
              "          const docLinkHtml = 'Like what you see? Visit the ' +\n",
              "            '<a target=\"_blank\" href=https://colab.research.google.com/notebooks/data_table.ipynb>data table notebook</a>'\n",
              "            + ' to learn more about interactive tables.';\n",
              "          element.innerHTML = '';\n",
              "          dataTable['output_type'] = 'display_data';\n",
              "          await google.colab.output.renderOutput(dataTable, element);\n",
              "          const docLink = document.createElement('div');\n",
              "          docLink.innerHTML = docLinkHtml;\n",
              "          element.appendChild(docLink);\n",
              "        }\n",
              "      </script>\n",
              "    </div>\n",
              "  </div>\n",
              "  "
            ]
          },
          "metadata": {},
          "execution_count": 47
        }
      ]
    },
    {
      "cell_type": "code",
      "source": [
        "total = raw_data.sum(axis = 0)\n",
        "print(total)"
      ],
      "metadata": {
        "colab": {
          "base_uri": "https://localhost:8080/",
          "height": 182
        },
        "id": "Tf1mEUhG5ILX",
        "outputId": "0a1500b8-2de0-44fd-e676-7f4f87f98846"
      },
      "execution_count": null,
      "outputs": [
        {
          "output_type": "error",
          "ename": "AttributeError",
          "evalue": "ignored",
          "traceback": [
            "\u001b[0;31m---------------------------------------------------------------------------\u001b[0m",
            "\u001b[0;31mAttributeError\u001b[0m                            Traceback (most recent call last)",
            "\u001b[0;32m<ipython-input-48-a034883fe516>\u001b[0m in \u001b[0;36m<module>\u001b[0;34m()\u001b[0m\n\u001b[0;32m----> 1\u001b[0;31m \u001b[0mtotal\u001b[0m \u001b[0;34m=\u001b[0m \u001b[0mraw_data\u001b[0m\u001b[0;34m.\u001b[0m\u001b[0msum\u001b[0m\u001b[0;34m(\u001b[0m\u001b[0maxis\u001b[0m \u001b[0;34m=\u001b[0m \u001b[0;36m0\u001b[0m\u001b[0;34m)\u001b[0m\u001b[0;34m\u001b[0m\u001b[0;34m\u001b[0m\u001b[0m\n\u001b[0m\u001b[1;32m      2\u001b[0m \u001b[0mprint\u001b[0m\u001b[0;34m(\u001b[0m\u001b[0mtotal\u001b[0m\u001b[0;34m)\u001b[0m\u001b[0;34m\u001b[0m\u001b[0;34m\u001b[0m\u001b[0m\n",
            "\u001b[0;31mAttributeError\u001b[0m: 'dict' object has no attribute 'sum'"
          ]
        }
      ]
    },
    {
      "cell_type": "code",
      "source": [
        "import numpy as np\n",
        "import matplotlib.pyplot as plt"
      ],
      "metadata": {
        "id": "W2qNXn7w3M_g"
      },
      "execution_count": null,
      "outputs": []
    },
    {
      "cell_type": "code",
      "source": [
        "korea_scores = (24,67,22)\n",
        "canada_scores = (57,90,25)\n",
        "china_scores = (346,79,246)\n",
        "france_scores = (368,68,34)\n",
        "index = np.arange(3)\n",
        "bar_width = 0.2\n",
        "\n",
        "k1 = plt.bar(index,korea_scores,bar_width,alpha = 0.9,label = 'korea')\n",
        "c1 = plt.bar(index+bar_width,canada_scores,bar_width,alpha = 0.9,label = 'korea')\n",
        "ch1 = plt.bar(index+bar_width*2,china_scores,bar_width,alpha = 0.9,label = 'korea')\n",
        "f1 = plt.bar(index+bar_width*3,france_scores,bar_width,alpha = 0.9,label = 'korea')\n",
        "plt.xticks(index+.3,('maths','reading','science'))\n",
        "plt.ylabel('mean scores in 2021')\n",
        "plt.xlabel('subjects')\n",
        "plt.title('test scores by country')\n",
        "plt.grid(True)\n",
        "plt.legend()"
      ],
      "metadata": {
        "colab": {
          "base_uri": "https://localhost:8080/",
          "height": 296
        },
        "id": "bvFcpC51yY_q",
        "outputId": "07186921-ca11-480c-9807-95b4c6ce39f5"
      },
      "execution_count": null,
      "outputs": [
        {
          "output_type": "execute_result",
          "data": {
            "text/plain": [
              "<matplotlib.legend.Legend at 0x7fd456c54750>"
            ]
          },
          "metadata": {},
          "execution_count": 3
        },
        {
          "output_type": "display_data",
          "data": {
            "text/plain": [
              "<Figure size 432x288 with 1 Axes>"
            ],
            "image/png": "[encoded data removed]"
          },
          "metadata": {
            "needs_background": "light"
          }
        }
      ]
    },
    {
      "cell_type": "code",
      "source": [
        "plt.bar([1,3,5,7,9],[5,2,7,8,2],label = 'example one')\n",
        "plt.bar([2,34,6,8,10],[8,6,2,5,6],label = 'example two',color = 'green')\n",
        "plt.legend()\n",
        "plt.ylabel('bar width')\n",
        "plt.xlabel('bar number')\n",
        "plt.title('epic graph')"
      ],
      "metadata": {
        "colab": {
          "base_uri": "https://localhost:8080/",
          "height": 312
        },
        "id": "ljyGuOIr4mof",
        "outputId": "9d173dc9-25cc-451d-9863-96a31c078bf9"
      },
      "execution_count": null,
      "outputs": [
        {
          "output_type": "execute_result",
          "data": {
            "text/plain": [
              "Text(0.5, 1.0, 'epic graph')"
            ]
          },
          "metadata": {},
          "execution_count": 5
        },
        {
          "output_type": "display_data",
          "data": {
            "text/plain": [
              "<Figure size 432x288 with 1 Axes>"
            ],
            "image/png": "[encoded data removed]"
          },
          "metadata": {
            "needs_background": "light"
          }
        }
      ]
    },
    {
      "cell_type": "code",
      "source": [
        "population_ages = [23,556,78,2,45,67,89,244,12,23,24,18,98,789]\n",
        "bins = [10,20,30,40,50,60,70,80,90,100]\n",
        "plt.hist(population_ages,bins,color = 'red')"
      ],
      "metadata": {
        "colab": {
          "base_uri": "https://localhost:8080/",
          "height": 317
        },
        "id": "6SfXeQ4L5cLM",
        "outputId": "cacb97f8-43d7-41ed-e91f-c454a69f5f2a"
      },
      "execution_count": null,
      "outputs": [
        {
          "output_type": "execute_result",
          "data": {
            "text/plain": [
              "(array([2., 3., 0., 1., 0., 1., 1., 1., 1.]),\n",
              " array([ 10,  20,  30,  40,  50,  60,  70,  80,  90, 100]),\n",
              " <a list of 9 Patch objects>)"
            ]
          },
          "metadata": {},
          "execution_count": 7
        },
        {
          "output_type": "display_data",
          "data": {
            "text/plain": [
              "<Figure size 432x288 with 1 Axes>"
            ],
            "image/png": "[encoded data removed]"
          },
          "metadata": {
            "needs_background": "light"
          }
        }
      ]
    },
    {
      "cell_type": "code",
      "source": [
        "x = [1,2,3,4,5,6,7,8]\n",
        "y = [5,2,4,2,1,4,5,2]\n",
        "plt.scatter(x,y,label = 'scateer plot',color ='k')\n",
        "plt.ylabel('y')\n",
        "plt.xlabel('x')\n",
        "plt.title('interesting graph')"
      ],
      "metadata": {
        "colab": {
          "base_uri": "https://localhost:8080/",
          "height": 312
        },
        "id": "BojCQswH6CZb",
        "outputId": "b21b06ee-2f21-4360-a758-20ac909b3d68"
      },
      "execution_count": null,
      "outputs": [
        {
          "output_type": "execute_result",
          "data": {
            "text/plain": [
              "Text(0.5, 1.0, 'interesting graph')"
            ]
          },
          "metadata": {},
          "execution_count": 9
        },
        {
          "output_type": "display_data",
          "data": {
            "text/plain": [
              "<Figure size 432x288 with 1 Axes>"
            ],
            "image/png": "[encoded data removed]"
          },
          "metadata": {
            "needs_background": "light"
          }
        }
      ]
    },
    {
      "cell_type": "code",
      "source": [
        "#  stackplot\n",
        "\n",
        "days = [1,2,3,4,5]\n",
        "sleeping = [7,8,6,11,7]\n",
        "eating = [2,3,4,3,2]\n",
        "working = [7,8,7,2,2]\n",
        "playing= [4,5,3,2,1]\n",
        "plt.stackplot(days,sleeping,eating,working,playing,colors = ['y','b','r','k'])"
      ],
      "metadata": {
        "colab": {
          "base_uri": "https://localhost:8080/",
          "height": 338
        },
        "id": "ucB37ppN7Owy",
        "outputId": "599057b6-e571-4479-948c-df02f366cb37"
      },
      "execution_count": null,
      "outputs": [
        {
          "output_type": "execute_result",
          "data": {
            "text/plain": [
              "[<matplotlib.collections.PolyCollection at 0x7fd44da6f850>,\n",
              " <matplotlib.collections.PolyCollection at 0x7fd44da6fb90>,\n",
              " <matplotlib.collections.PolyCollection at 0x7fd44da6fed0>,\n",
              " <matplotlib.collections.PolyCollection at 0x7fd44da7d250>]"
            ]
          },
          "metadata": {},
          "execution_count": 13
        },
        {
          "output_type": "display_data",
          "data": {
            "text/plain": [
              "<Figure size 432x288 with 1 Axes>"
            ],
            "image/png": "[encoded data removed]"
          },
          "metadata": {
            "needs_background": "light"
          }
        }
      ]
    },
    {
      "cell_type": "code",
      "source": [
        "# line 3d plot\n",
        "\n",
        "from mpl_toolkits.mplot3d import Axes3D\n",
        "import matplotlib.pyplot as plt\n",
        "from matplotlib import style\n",
        "\n",
        "style.use('fivethirtyeight')\n",
        "\n",
        "fig = plt.figure()\n",
        "ax1 = fig.add_subplot(111,projection = '3d')\n",
        "\n",
        "x = [1,2,3,4,5,6,7,8,9,10]\n",
        "y = [1,5,3,6,3,6,3,9,6,3]\n",
        "z = [4,2,7,5,7,9,5,4,3,5]\n",
        "ax1.plot(x,y,z,c = 'g',marker = 'o')\n",
        "\n",
        "ax1.set_label('x-axis')\n",
        "ax1.set_label('y-axis')\n",
        "ax1.set_label('z-axis')"
      ],
      "metadata": {
        "colab": {
          "base_uri": "https://localhost:8080/",
          "height": 264
        },
        "id": "u22388g98VoK",
        "outputId": "50ff92e2-8169-4581-9938-18e460091078"
      },
      "execution_count": null,
      "outputs": [
        {
          "output_type": "display_data",
          "data": {
            "text/plain": [
              "<Figure size 432x288 with 1 Axes>"
            ],
            "image/png": "[encoded data removed]"
          },
          "metadata": {}
        }
      ]
    },
    {
      "cell_type": "code",
      "source": [
        "from mpl_toolkits.mplot3d import Axes3D\n",
        "import matplotlib.pyplot as plt\n",
        "from matplotlib import style\n",
        "\n",
        "style.use('ggplot')\n",
        "\n",
        "fig = plt.figure()\n",
        "ax1 = fig.add_subplot(111,projection = '3d')\n",
        "\n",
        "x = [1,2,3,4,5,6,7,8,9,10]\n",
        "y = [1,5,3,6,3,6,3,9,6,3]\n",
        "z = [4,2,7,5,7,9,5,4,3,5]\n",
        "ax1.scatter(x,y,z,c = 'g',marker = 'o')\n",
        "\n",
        "ax1.set_label('x-axis')\n",
        "ax1.set_label('y-axis')\n",
        "ax1.set_label('z-axis')"
      ],
      "metadata": {
        "colab": {
          "base_uri": "https://localhost:8080/",
          "height": 264
        },
        "id": "-AzTvWdi9yD0",
        "outputId": "ae2e2193-2548-4444-c0d9-af8d60015985"
      },
      "execution_count": null,
      "outputs": [
        {
          "output_type": "display_data",
          "data": {
            "text/plain": [
              "<Figure size 432x288 with 1 Axes>"
            ],
            "image/png": "[encoded data removed]"
          },
          "metadata": {}
        }
      ]
    },
    {
      "cell_type": "code",
      "source": [
        "from mpl_toolkits.mplot3d import Axes3D\n",
        "import matplotlib.pyplot as plt\n",
        "from matplotlib import style\n",
        "\n",
        "style.use('fivethirtyeight')\n",
        "\n",
        "fig = plt.figure()\n",
        "ax1 = fig.add_subplot(111,projection = '3d')\n",
        "\n",
        "x = [1,2,3,4,5,6,7,8,9,10]\n",
        "y = [1,5,3,6,3,6,3,9,6,3]\n",
        "z = np.zeros(10)\n",
        "\n",
        "dx = np.ones(10)\n",
        "dy =np.ones(10)\n",
        "dz = [1,2,3,4,5,6,7,8,9,10]\n",
        "\n",
        "ax1.bar3d(x,y,z,dx,dy,dz)\n",
        "\n",
        "\n",
        "ax1.set_label('x-axis')\n",
        "ax1.set_label('y-axis')\n",
        "ax1.set_label('z-axis')"
      ],
      "metadata": {
        "colab": {
          "base_uri": "https://localhost:8080/",
          "height": 264
        },
        "id": "kSrK7hyh_45x",
        "outputId": "e7819313-9eba-4168-d43b-abd4df1e8d5f"
      },
      "execution_count": null,
      "outputs": [
        {
          "output_type": "display_data",
          "data": {
            "text/plain": [
              "<Figure size 432x288 with 1 Axes>"
            ],
            "image/png": "[encoded data removed]"
          },
          "metadata": {}
        }
      ]
    },
    {
      "cell_type": "code",
      "source": [
        ""
      ],
      "metadata": {
        "id": "hNoMZe6tAtsz"
      },
      "execution_count": null,
      "outputs": []
    }
  ]
}